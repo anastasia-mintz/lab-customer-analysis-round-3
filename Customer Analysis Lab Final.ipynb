{
 "cells": [
  {
   "cell_type": "code",
   "execution_count": 27,
   "metadata": {},
   "outputs": [],
   "source": [
    "import pandas as pd\n",
    "import numpy as np\n",
    "import matplotlib.pyplot as plt\n",
    "import seaborn as sns"
   ]
  },
  {
   "cell_type": "code",
   "execution_count": 28,
   "metadata": {},
   "outputs": [],
   "source": [
    "file1 = pd.read_csv('~/ironhack/lab-customer-analysis-round-1/files_for_lab/csv_files/file1.csv')\n",
    "file2 = pd.read_csv('~/ironhack/lab-customer-analysis-round-1/files_for_lab/csv_files/file2.csv')\n",
    "file3 = pd.read_csv('~/ironhack/lab-customer-analysis-round-1/files_for_lab/csv_files/file3.csv')"
   ]
  },
  {
   "cell_type": "markdown",
   "metadata": {},
   "source": [
    "# Activities:\n",
    "\n",
    "- Read the three files into python as dataframes\n",
    "\n",
    "- Show the DataFrame's shape.\n",
    "\n",
    "- Standardize header names.\n",
    "\n",
    "- Rearrange the columns in the dataframe as needed\n",
    "\n",
    "- Concatenate the three dataframes\n",
    "\n",
    "- Which columns are numerical?\n",
    "\n",
    "- Which columns are categorical?\n",
    "\n",
    "- Understand the meaning of all columns\n",
    "\n",
    "Perform the data cleaning operations mentioned so far in class:\n",
    "\n",
    "- Delete the column education and the number of open complaints from the dataframe.\n",
    "- Correct the values in the column customer lifetime value. They are given as a percent, so multiply them by 100 and change dtype to numerical type.\n",
    "- Check for duplicate rows in the data and remove if any.\n",
    "- Filter out the data for customers who have an income of 0 or less."
   ]
  },
  {
   "cell_type": "code",
   "execution_count": 29,
   "metadata": {},
   "outputs": [
    {
     "data": {
      "text/html": [
       "<div>\n",
       "<style scoped>\n",
       "    .dataframe tbody tr th:only-of-type {\n",
       "        vertical-align: middle;\n",
       "    }\n",
       "\n",
       "    .dataframe tbody tr th {\n",
       "        vertical-align: top;\n",
       "    }\n",
       "\n",
       "    .dataframe thead th {\n",
       "        text-align: right;\n",
       "    }\n",
       "</style>\n",
       "<table border=\"1\" class=\"dataframe\">\n",
       "  <thead>\n",
       "    <tr style=\"text-align: right;\">\n",
       "      <th></th>\n",
       "      <th>Customer</th>\n",
       "      <th>ST</th>\n",
       "      <th>GENDER</th>\n",
       "      <th>Education</th>\n",
       "      <th>Customer Lifetime Value</th>\n",
       "      <th>Income</th>\n",
       "      <th>Monthly Premium Auto</th>\n",
       "      <th>Number of Open Complaints</th>\n",
       "      <th>Policy Type</th>\n",
       "      <th>Vehicle Class</th>\n",
       "      <th>Total Claim Amount</th>\n",
       "    </tr>\n",
       "  </thead>\n",
       "  <tbody>\n",
       "    <tr>\n",
       "      <th>0</th>\n",
       "      <td>RB50392</td>\n",
       "      <td>Washington</td>\n",
       "      <td>NaN</td>\n",
       "      <td>Master</td>\n",
       "      <td>NaN</td>\n",
       "      <td>0.0</td>\n",
       "      <td>1000.0</td>\n",
       "      <td>1/0/00</td>\n",
       "      <td>Personal Auto</td>\n",
       "      <td>Four-Door Car</td>\n",
       "      <td>2.704934</td>\n",
       "    </tr>\n",
       "    <tr>\n",
       "      <th>1</th>\n",
       "      <td>QZ44356</td>\n",
       "      <td>Arizona</td>\n",
       "      <td>F</td>\n",
       "      <td>Bachelor</td>\n",
       "      <td>697953.59%</td>\n",
       "      <td>0.0</td>\n",
       "      <td>94.0</td>\n",
       "      <td>1/0/00</td>\n",
       "      <td>Personal Auto</td>\n",
       "      <td>Four-Door Car</td>\n",
       "      <td>1131.464935</td>\n",
       "    </tr>\n",
       "    <tr>\n",
       "      <th>2</th>\n",
       "      <td>AI49188</td>\n",
       "      <td>Nevada</td>\n",
       "      <td>F</td>\n",
       "      <td>Bachelor</td>\n",
       "      <td>1288743.17%</td>\n",
       "      <td>48767.0</td>\n",
       "      <td>108.0</td>\n",
       "      <td>1/0/00</td>\n",
       "      <td>Personal Auto</td>\n",
       "      <td>Two-Door Car</td>\n",
       "      <td>566.472247</td>\n",
       "    </tr>\n",
       "    <tr>\n",
       "      <th>3</th>\n",
       "      <td>WW63253</td>\n",
       "      <td>California</td>\n",
       "      <td>M</td>\n",
       "      <td>Bachelor</td>\n",
       "      <td>764586.18%</td>\n",
       "      <td>0.0</td>\n",
       "      <td>106.0</td>\n",
       "      <td>1/0/00</td>\n",
       "      <td>Corporate Auto</td>\n",
       "      <td>SUV</td>\n",
       "      <td>529.881344</td>\n",
       "    </tr>\n",
       "    <tr>\n",
       "      <th>4</th>\n",
       "      <td>GA49547</td>\n",
       "      <td>Washington</td>\n",
       "      <td>M</td>\n",
       "      <td>High School or Below</td>\n",
       "      <td>536307.65%</td>\n",
       "      <td>36357.0</td>\n",
       "      <td>68.0</td>\n",
       "      <td>1/0/00</td>\n",
       "      <td>Personal Auto</td>\n",
       "      <td>Four-Door Car</td>\n",
       "      <td>17.269323</td>\n",
       "    </tr>\n",
       "  </tbody>\n",
       "</table>\n",
       "</div>"
      ],
      "text/plain": [
       "  Customer          ST GENDER             Education Customer Lifetime Value  \\\n",
       "0  RB50392  Washington    NaN                Master                     NaN   \n",
       "1  QZ44356     Arizona      F              Bachelor              697953.59%   \n",
       "2  AI49188      Nevada      F              Bachelor             1288743.17%   \n",
       "3  WW63253  California      M              Bachelor              764586.18%   \n",
       "4  GA49547  Washington      M  High School or Below              536307.65%   \n",
       "\n",
       "    Income  Monthly Premium Auto Number of Open Complaints     Policy Type  \\\n",
       "0      0.0                1000.0                    1/0/00   Personal Auto   \n",
       "1      0.0                  94.0                    1/0/00   Personal Auto   \n",
       "2  48767.0                 108.0                    1/0/00   Personal Auto   \n",
       "3      0.0                 106.0                    1/0/00  Corporate Auto   \n",
       "4  36357.0                  68.0                    1/0/00   Personal Auto   \n",
       "\n",
       "   Vehicle Class  Total Claim Amount  \n",
       "0  Four-Door Car            2.704934  \n",
       "1  Four-Door Car         1131.464935  \n",
       "2   Two-Door Car          566.472247  \n",
       "3            SUV          529.881344  \n",
       "4  Four-Door Car           17.269323  "
      ]
     },
     "execution_count": 29,
     "metadata": {},
     "output_type": "execute_result"
    }
   ],
   "source": [
    "#Read the three files into python as dataframes\n",
    "file1.head()"
   ]
  },
  {
   "cell_type": "code",
   "execution_count": 30,
   "metadata": {},
   "outputs": [
    {
     "data": {
      "text/html": [
       "<div>\n",
       "<style scoped>\n",
       "    .dataframe tbody tr th:only-of-type {\n",
       "        vertical-align: middle;\n",
       "    }\n",
       "\n",
       "    .dataframe tbody tr th {\n",
       "        vertical-align: top;\n",
       "    }\n",
       "\n",
       "    .dataframe thead th {\n",
       "        text-align: right;\n",
       "    }\n",
       "</style>\n",
       "<table border=\"1\" class=\"dataframe\">\n",
       "  <thead>\n",
       "    <tr style=\"text-align: right;\">\n",
       "      <th></th>\n",
       "      <th>Customer</th>\n",
       "      <th>ST</th>\n",
       "      <th>GENDER</th>\n",
       "      <th>Education</th>\n",
       "      <th>Customer Lifetime Value</th>\n",
       "      <th>Income</th>\n",
       "      <th>Monthly Premium Auto</th>\n",
       "      <th>Number of Open Complaints</th>\n",
       "      <th>Total Claim Amount</th>\n",
       "      <th>Policy Type</th>\n",
       "      <th>Vehicle Class</th>\n",
       "    </tr>\n",
       "  </thead>\n",
       "  <tbody>\n",
       "    <tr>\n",
       "      <th>0</th>\n",
       "      <td>GS98873</td>\n",
       "      <td>Arizona</td>\n",
       "      <td>F</td>\n",
       "      <td>Bachelor</td>\n",
       "      <td>323912.47%</td>\n",
       "      <td>16061</td>\n",
       "      <td>88</td>\n",
       "      <td>1/0/00</td>\n",
       "      <td>633.6</td>\n",
       "      <td>Personal Auto</td>\n",
       "      <td>Four-Door Car</td>\n",
       "    </tr>\n",
       "    <tr>\n",
       "      <th>1</th>\n",
       "      <td>CW49887</td>\n",
       "      <td>California</td>\n",
       "      <td>F</td>\n",
       "      <td>Master</td>\n",
       "      <td>462680.11%</td>\n",
       "      <td>79487</td>\n",
       "      <td>114</td>\n",
       "      <td>1/0/00</td>\n",
       "      <td>547.2</td>\n",
       "      <td>Special Auto</td>\n",
       "      <td>SUV</td>\n",
       "    </tr>\n",
       "    <tr>\n",
       "      <th>2</th>\n",
       "      <td>MY31220</td>\n",
       "      <td>California</td>\n",
       "      <td>F</td>\n",
       "      <td>College</td>\n",
       "      <td>899704.02%</td>\n",
       "      <td>54230</td>\n",
       "      <td>112</td>\n",
       "      <td>1/0/00</td>\n",
       "      <td>537.6</td>\n",
       "      <td>Personal Auto</td>\n",
       "      <td>Two-Door Car</td>\n",
       "    </tr>\n",
       "    <tr>\n",
       "      <th>3</th>\n",
       "      <td>UH35128</td>\n",
       "      <td>Oregon</td>\n",
       "      <td>F</td>\n",
       "      <td>College</td>\n",
       "      <td>2580706.30%</td>\n",
       "      <td>71210</td>\n",
       "      <td>214</td>\n",
       "      <td>1/1/00</td>\n",
       "      <td>1027.2</td>\n",
       "      <td>Personal Auto</td>\n",
       "      <td>Luxury Car</td>\n",
       "    </tr>\n",
       "    <tr>\n",
       "      <th>4</th>\n",
       "      <td>WH52799</td>\n",
       "      <td>Arizona</td>\n",
       "      <td>F</td>\n",
       "      <td>College</td>\n",
       "      <td>380812.21%</td>\n",
       "      <td>94903</td>\n",
       "      <td>94</td>\n",
       "      <td>1/0/00</td>\n",
       "      <td>451.2</td>\n",
       "      <td>Corporate Auto</td>\n",
       "      <td>Two-Door Car</td>\n",
       "    </tr>\n",
       "  </tbody>\n",
       "</table>\n",
       "</div>"
      ],
      "text/plain": [
       "  Customer          ST GENDER Education Customer Lifetime Value  Income  \\\n",
       "0  GS98873     Arizona      F  Bachelor              323912.47%   16061   \n",
       "1  CW49887  California      F    Master              462680.11%   79487   \n",
       "2  MY31220  California      F   College              899704.02%   54230   \n",
       "3  UH35128      Oregon      F   College             2580706.30%   71210   \n",
       "4  WH52799     Arizona      F   College              380812.21%   94903   \n",
       "\n",
       "   Monthly Premium Auto Number of Open Complaints  Total Claim Amount  \\\n",
       "0                    88                    1/0/00               633.6   \n",
       "1                   114                    1/0/00               547.2   \n",
       "2                   112                    1/0/00               537.6   \n",
       "3                   214                    1/1/00              1027.2   \n",
       "4                    94                    1/0/00               451.2   \n",
       "\n",
       "      Policy Type  Vehicle Class  \n",
       "0   Personal Auto  Four-Door Car  \n",
       "1    Special Auto            SUV  \n",
       "2   Personal Auto   Two-Door Car  \n",
       "3   Personal Auto     Luxury Car  \n",
       "4  Corporate Auto   Two-Door Car  "
      ]
     },
     "execution_count": 30,
     "metadata": {},
     "output_type": "execute_result"
    }
   ],
   "source": [
    "file2.head()"
   ]
  },
  {
   "cell_type": "code",
   "execution_count": 31,
   "metadata": {},
   "outputs": [
    {
     "data": {
      "text/html": [
       "<div>\n",
       "<style scoped>\n",
       "    .dataframe tbody tr th:only-of-type {\n",
       "        vertical-align: middle;\n",
       "    }\n",
       "\n",
       "    .dataframe tbody tr th {\n",
       "        vertical-align: top;\n",
       "    }\n",
       "\n",
       "    .dataframe thead th {\n",
       "        text-align: right;\n",
       "    }\n",
       "</style>\n",
       "<table border=\"1\" class=\"dataframe\">\n",
       "  <thead>\n",
       "    <tr style=\"text-align: right;\">\n",
       "      <th></th>\n",
       "      <th>Customer</th>\n",
       "      <th>State</th>\n",
       "      <th>Customer Lifetime Value</th>\n",
       "      <th>Education</th>\n",
       "      <th>Gender</th>\n",
       "      <th>Income</th>\n",
       "      <th>Monthly Premium Auto</th>\n",
       "      <th>Number of Open Complaints</th>\n",
       "      <th>Policy Type</th>\n",
       "      <th>Total Claim Amount</th>\n",
       "      <th>Vehicle Class</th>\n",
       "    </tr>\n",
       "  </thead>\n",
       "  <tbody>\n",
       "    <tr>\n",
       "      <th>0</th>\n",
       "      <td>SA25987</td>\n",
       "      <td>Washington</td>\n",
       "      <td>3479.137523</td>\n",
       "      <td>High School or Below</td>\n",
       "      <td>M</td>\n",
       "      <td>0</td>\n",
       "      <td>104</td>\n",
       "      <td>0</td>\n",
       "      <td>Personal Auto</td>\n",
       "      <td>499.200000</td>\n",
       "      <td>Two-Door Car</td>\n",
       "    </tr>\n",
       "    <tr>\n",
       "      <th>1</th>\n",
       "      <td>TB86706</td>\n",
       "      <td>Arizona</td>\n",
       "      <td>2502.637401</td>\n",
       "      <td>Master</td>\n",
       "      <td>M</td>\n",
       "      <td>0</td>\n",
       "      <td>66</td>\n",
       "      <td>0</td>\n",
       "      <td>Personal Auto</td>\n",
       "      <td>3.468912</td>\n",
       "      <td>Two-Door Car</td>\n",
       "    </tr>\n",
       "    <tr>\n",
       "      <th>2</th>\n",
       "      <td>ZL73902</td>\n",
       "      <td>Nevada</td>\n",
       "      <td>3265.156348</td>\n",
       "      <td>Bachelor</td>\n",
       "      <td>F</td>\n",
       "      <td>25820</td>\n",
       "      <td>82</td>\n",
       "      <td>0</td>\n",
       "      <td>Personal Auto</td>\n",
       "      <td>393.600000</td>\n",
       "      <td>Four-Door Car</td>\n",
       "    </tr>\n",
       "    <tr>\n",
       "      <th>3</th>\n",
       "      <td>KX23516</td>\n",
       "      <td>California</td>\n",
       "      <td>4455.843406</td>\n",
       "      <td>High School or Below</td>\n",
       "      <td>F</td>\n",
       "      <td>0</td>\n",
       "      <td>121</td>\n",
       "      <td>0</td>\n",
       "      <td>Personal Auto</td>\n",
       "      <td>699.615192</td>\n",
       "      <td>SUV</td>\n",
       "    </tr>\n",
       "    <tr>\n",
       "      <th>4</th>\n",
       "      <td>FN77294</td>\n",
       "      <td>California</td>\n",
       "      <td>7704.958480</td>\n",
       "      <td>High School or Below</td>\n",
       "      <td>M</td>\n",
       "      <td>30366</td>\n",
       "      <td>101</td>\n",
       "      <td>2</td>\n",
       "      <td>Personal Auto</td>\n",
       "      <td>484.800000</td>\n",
       "      <td>SUV</td>\n",
       "    </tr>\n",
       "  </tbody>\n",
       "</table>\n",
       "</div>"
      ],
      "text/plain": [
       "  Customer       State  Customer Lifetime Value             Education Gender  \\\n",
       "0  SA25987  Washington              3479.137523  High School or Below      M   \n",
       "1  TB86706     Arizona              2502.637401                Master      M   \n",
       "2  ZL73902      Nevada              3265.156348              Bachelor      F   \n",
       "3  KX23516  California              4455.843406  High School or Below      F   \n",
       "4  FN77294  California              7704.958480  High School or Below      M   \n",
       "\n",
       "   Income  Monthly Premium Auto  Number of Open Complaints    Policy Type  \\\n",
       "0       0                   104                          0  Personal Auto   \n",
       "1       0                    66                          0  Personal Auto   \n",
       "2   25820                    82                          0  Personal Auto   \n",
       "3       0                   121                          0  Personal Auto   \n",
       "4   30366                   101                          2  Personal Auto   \n",
       "\n",
       "   Total Claim Amount  Vehicle Class  \n",
       "0          499.200000   Two-Door Car  \n",
       "1            3.468912   Two-Door Car  \n",
       "2          393.600000  Four-Door Car  \n",
       "3          699.615192            SUV  \n",
       "4          484.800000            SUV  "
      ]
     },
     "execution_count": 31,
     "metadata": {},
     "output_type": "execute_result"
    }
   ],
   "source": [
    "file3.head()"
   ]
  },
  {
   "cell_type": "code",
   "execution_count": 32,
   "metadata": {},
   "outputs": [
    {
     "data": {
      "text/plain": [
       "(4008, 11)"
      ]
     },
     "execution_count": 32,
     "metadata": {},
     "output_type": "execute_result"
    }
   ],
   "source": [
    "#Show the DataFrame's shape\n",
    "file1.shape"
   ]
  },
  {
   "cell_type": "code",
   "execution_count": 33,
   "metadata": {},
   "outputs": [
    {
     "data": {
      "text/plain": [
       "(996, 11)"
      ]
     },
     "execution_count": 33,
     "metadata": {},
     "output_type": "execute_result"
    }
   ],
   "source": [
    "file2.shape"
   ]
  },
  {
   "cell_type": "code",
   "execution_count": 34,
   "metadata": {},
   "outputs": [
    {
     "data": {
      "text/plain": [
       "(7070, 11)"
      ]
     },
     "execution_count": 34,
     "metadata": {},
     "output_type": "execute_result"
    }
   ],
   "source": [
    "file3.shape"
   ]
  },
  {
   "cell_type": "code",
   "execution_count": 35,
   "metadata": {},
   "outputs": [
    {
     "data": {
      "text/plain": [
       "Index(['Customer', 'ST', 'GENDER', 'Education', 'Customer Lifetime Value',\n",
       "       'Income', 'Monthly Premium Auto', 'Number of Open Complaints',\n",
       "       'Policy Type', 'Vehicle Class', 'Total Claim Amount'],\n",
       "      dtype='object')"
      ]
     },
     "execution_count": 35,
     "metadata": {},
     "output_type": "execute_result"
    }
   ],
   "source": [
    "#Standardize header names\n",
    "file1.columns"
   ]
  },
  {
   "cell_type": "code",
   "execution_count": 36,
   "metadata": {},
   "outputs": [
    {
     "data": {
      "text/plain": [
       "Index(['Customer', 'ST', 'GENDER', 'Education', 'Customer Lifetime Value',\n",
       "       'Income', 'Monthly Premium Auto', 'Number of Open Complaints',\n",
       "       'Total Claim Amount', 'Policy Type', 'Vehicle Class'],\n",
       "      dtype='object')"
      ]
     },
     "execution_count": 36,
     "metadata": {},
     "output_type": "execute_result"
    }
   ],
   "source": [
    "file2.columns"
   ]
  },
  {
   "cell_type": "code",
   "execution_count": 37,
   "metadata": {},
   "outputs": [
    {
     "data": {
      "text/plain": [
       "Index(['Customer', 'State', 'Customer Lifetime Value', 'Education', 'Gender',\n",
       "       'Income', 'Monthly Premium Auto', 'Number of Open Complaints',\n",
       "       'Policy Type', 'Total Claim Amount', 'Vehicle Class'],\n",
       "      dtype='object')"
      ]
     },
     "execution_count": 37,
     "metadata": {},
     "output_type": "execute_result"
    }
   ],
   "source": [
    "file3.columns"
   ]
  },
  {
   "cell_type": "code",
   "execution_count": 38,
   "metadata": {},
   "outputs": [],
   "source": [
    "#Rearrange columns\n",
    "file2 = file2[['Customer', 'ST', 'GENDER', 'Education', 'Customer Lifetime Value',\n",
    "       'Income', 'Monthly Premium Auto', 'Number of Open Complaints',\n",
    "       'Policy Type', 'Vehicle Class', 'Total Claim Amount']]\n"
   ]
  },
  {
   "cell_type": "code",
   "execution_count": 39,
   "metadata": {},
   "outputs": [],
   "source": [
    "#Rearrange and rename columns\n",
    "file3 = file3.rename(columns={'State':'ST','Gender':'GENDER'})\n",
    "file3 = file3[['Customer', 'ST', 'GENDER', 'Education', 'Customer Lifetime Value',\n",
    "       'Income', 'Monthly Premium Auto', 'Number of Open Complaints',\n",
    "       'Policy Type', 'Vehicle Class', 'Total Claim Amount']]\n"
   ]
  },
  {
   "cell_type": "code",
   "execution_count": 40,
   "metadata": {},
   "outputs": [],
   "source": [
    "#Merge Files\n",
    "file = pd.concat([file1, file2,file3], axis=0)"
   ]
  },
  {
   "cell_type": "code",
   "execution_count": 41,
   "metadata": {},
   "outputs": [
    {
     "data": {
      "text/plain": [
       "(12074, 11)"
      ]
     },
     "execution_count": 41,
     "metadata": {},
     "output_type": "execute_result"
    }
   ],
   "source": [
    "file.shape"
   ]
  },
  {
   "cell_type": "code",
   "execution_count": 42,
   "metadata": {},
   "outputs": [
    {
     "data": {
      "text/plain": [
       "(9135, 11)"
      ]
     },
     "execution_count": 42,
     "metadata": {},
     "output_type": "execute_result"
    }
   ],
   "source": [
    "#Remove duplicates\n",
    "file = file.drop_duplicates()\n",
    "file.shape"
   ]
  },
  {
   "cell_type": "code",
   "execution_count": 43,
   "metadata": {},
   "outputs": [
    {
     "data": {
      "text/html": [
       "<div>\n",
       "<style scoped>\n",
       "    .dataframe tbody tr th:only-of-type {\n",
       "        vertical-align: middle;\n",
       "    }\n",
       "\n",
       "    .dataframe tbody tr th {\n",
       "        vertical-align: top;\n",
       "    }\n",
       "\n",
       "    .dataframe thead th {\n",
       "        text-align: right;\n",
       "    }\n",
       "</style>\n",
       "<table border=\"1\" class=\"dataframe\">\n",
       "  <thead>\n",
       "    <tr style=\"text-align: right;\">\n",
       "      <th></th>\n",
       "      <th>Customer</th>\n",
       "      <th>State</th>\n",
       "      <th>Gender</th>\n",
       "      <th>Education</th>\n",
       "      <th>Customer Lifetime Value</th>\n",
       "      <th>Income</th>\n",
       "      <th>Monthly Premium Auto</th>\n",
       "      <th>Number of Open Complaints</th>\n",
       "      <th>Policy Type</th>\n",
       "      <th>Vehicle Class</th>\n",
       "      <th>Total Claim Amount</th>\n",
       "    </tr>\n",
       "  </thead>\n",
       "  <tbody>\n",
       "    <tr>\n",
       "      <th>0</th>\n",
       "      <td>RB50392</td>\n",
       "      <td>Washington</td>\n",
       "      <td>NaN</td>\n",
       "      <td>Master</td>\n",
       "      <td>NaN</td>\n",
       "      <td>0.0</td>\n",
       "      <td>1000.0</td>\n",
       "      <td>1/0/00</td>\n",
       "      <td>Personal Auto</td>\n",
       "      <td>Four-Door Car</td>\n",
       "      <td>2.704934</td>\n",
       "    </tr>\n",
       "    <tr>\n",
       "      <th>1</th>\n",
       "      <td>QZ44356</td>\n",
       "      <td>Arizona</td>\n",
       "      <td>F</td>\n",
       "      <td>Bachelor</td>\n",
       "      <td>697953.59%</td>\n",
       "      <td>0.0</td>\n",
       "      <td>94.0</td>\n",
       "      <td>1/0/00</td>\n",
       "      <td>Personal Auto</td>\n",
       "      <td>Four-Door Car</td>\n",
       "      <td>1131.464935</td>\n",
       "    </tr>\n",
       "    <tr>\n",
       "      <th>2</th>\n",
       "      <td>AI49188</td>\n",
       "      <td>Nevada</td>\n",
       "      <td>F</td>\n",
       "      <td>Bachelor</td>\n",
       "      <td>1288743.17%</td>\n",
       "      <td>48767.0</td>\n",
       "      <td>108.0</td>\n",
       "      <td>1/0/00</td>\n",
       "      <td>Personal Auto</td>\n",
       "      <td>Two-Door Car</td>\n",
       "      <td>566.472247</td>\n",
       "    </tr>\n",
       "    <tr>\n",
       "      <th>3</th>\n",
       "      <td>WW63253</td>\n",
       "      <td>California</td>\n",
       "      <td>M</td>\n",
       "      <td>Bachelor</td>\n",
       "      <td>764586.18%</td>\n",
       "      <td>0.0</td>\n",
       "      <td>106.0</td>\n",
       "      <td>1/0/00</td>\n",
       "      <td>Corporate Auto</td>\n",
       "      <td>SUV</td>\n",
       "      <td>529.881344</td>\n",
       "    </tr>\n",
       "    <tr>\n",
       "      <th>4</th>\n",
       "      <td>GA49547</td>\n",
       "      <td>Washington</td>\n",
       "      <td>M</td>\n",
       "      <td>High School or Below</td>\n",
       "      <td>536307.65%</td>\n",
       "      <td>36357.0</td>\n",
       "      <td>68.0</td>\n",
       "      <td>1/0/00</td>\n",
       "      <td>Personal Auto</td>\n",
       "      <td>Four-Door Car</td>\n",
       "      <td>17.269323</td>\n",
       "    </tr>\n",
       "  </tbody>\n",
       "</table>\n",
       "</div>"
      ],
      "text/plain": [
       "  Customer       State Gender             Education Customer Lifetime Value  \\\n",
       "0  RB50392  Washington    NaN                Master                     NaN   \n",
       "1  QZ44356     Arizona      F              Bachelor              697953.59%   \n",
       "2  AI49188      Nevada      F              Bachelor             1288743.17%   \n",
       "3  WW63253  California      M              Bachelor              764586.18%   \n",
       "4  GA49547  Washington      M  High School or Below              536307.65%   \n",
       "\n",
       "    Income  Monthly Premium Auto Number of Open Complaints     Policy Type  \\\n",
       "0      0.0                1000.0                    1/0/00   Personal Auto   \n",
       "1      0.0                  94.0                    1/0/00   Personal Auto   \n",
       "2  48767.0                 108.0                    1/0/00   Personal Auto   \n",
       "3      0.0                 106.0                    1/0/00  Corporate Auto   \n",
       "4  36357.0                  68.0                    1/0/00   Personal Auto   \n",
       "\n",
       "   Vehicle Class  Total Claim Amount  \n",
       "0  Four-Door Car            2.704934  \n",
       "1  Four-Door Car         1131.464935  \n",
       "2   Two-Door Car          566.472247  \n",
       "3            SUV          529.881344  \n",
       "4  Four-Door Car           17.269323  "
      ]
     },
     "execution_count": 43,
     "metadata": {},
     "output_type": "execute_result"
    }
   ],
   "source": [
    "# Rename columns\n",
    "file = file.rename(columns={'ST':'State','GENDER':'Gender'})\n",
    "file.head()"
   ]
  },
  {
   "cell_type": "code",
   "execution_count": 66,
   "metadata": {},
   "outputs": [
    {
     "data": {
      "text/plain": [
       "(6840, 8)"
      ]
     },
     "execution_count": 66,
     "metadata": {},
     "output_type": "execute_result"
    }
   ],
   "source": [
    "#Check for duplicate rows in the data and remove if any\n",
    "file.drop_duplicates()\n",
    "file.shape"
   ]
  },
  {
   "cell_type": "code",
   "execution_count": 44,
   "metadata": {},
   "outputs": [
    {
     "data": {
      "text/plain": [
       "Customer                      object\n",
       "State                         object\n",
       "Gender                        object\n",
       "Education                     object\n",
       "Customer Lifetime Value       object\n",
       "Income                       float64\n",
       "Monthly Premium Auto         float64\n",
       "Number of Open Complaints     object\n",
       "Policy Type                   object\n",
       "Vehicle Class                 object\n",
       "Total Claim Amount           float64\n",
       "dtype: object"
      ]
     },
     "execution_count": 44,
     "metadata": {},
     "output_type": "execute_result"
    }
   ],
   "source": [
    "# See which columns are numerical and which categorical\n",
    "file.dtypes"
   ]
  },
  {
   "cell_type": "code",
   "execution_count": 45,
   "metadata": {},
   "outputs": [
    {
     "data": {
      "text/html": [
       "<div>\n",
       "<style scoped>\n",
       "    .dataframe tbody tr th:only-of-type {\n",
       "        vertical-align: middle;\n",
       "    }\n",
       "\n",
       "    .dataframe tbody tr th {\n",
       "        vertical-align: top;\n",
       "    }\n",
       "\n",
       "    .dataframe thead th {\n",
       "        text-align: right;\n",
       "    }\n",
       "</style>\n",
       "<table border=\"1\" class=\"dataframe\">\n",
       "  <thead>\n",
       "    <tr style=\"text-align: right;\">\n",
       "      <th></th>\n",
       "      <th>Income</th>\n",
       "      <th>Monthly Premium Auto</th>\n",
       "      <th>Total Claim Amount</th>\n",
       "    </tr>\n",
       "  </thead>\n",
       "  <tbody>\n",
       "    <tr>\n",
       "      <th>0</th>\n",
       "      <td>0.0</td>\n",
       "      <td>1000.0</td>\n",
       "      <td>2.704934</td>\n",
       "    </tr>\n",
       "    <tr>\n",
       "      <th>1</th>\n",
       "      <td>0.0</td>\n",
       "      <td>94.0</td>\n",
       "      <td>1131.464935</td>\n",
       "    </tr>\n",
       "    <tr>\n",
       "      <th>2</th>\n",
       "      <td>48767.0</td>\n",
       "      <td>108.0</td>\n",
       "      <td>566.472247</td>\n",
       "    </tr>\n",
       "    <tr>\n",
       "      <th>3</th>\n",
       "      <td>0.0</td>\n",
       "      <td>106.0</td>\n",
       "      <td>529.881344</td>\n",
       "    </tr>\n",
       "    <tr>\n",
       "      <th>4</th>\n",
       "      <td>36357.0</td>\n",
       "      <td>68.0</td>\n",
       "      <td>17.269323</td>\n",
       "    </tr>\n",
       "    <tr>\n",
       "      <th>...</th>\n",
       "      <td>...</td>\n",
       "      <td>...</td>\n",
       "      <td>...</td>\n",
       "    </tr>\n",
       "    <tr>\n",
       "      <th>7065</th>\n",
       "      <td>71941.0</td>\n",
       "      <td>73.0</td>\n",
       "      <td>198.234764</td>\n",
       "    </tr>\n",
       "    <tr>\n",
       "      <th>7066</th>\n",
       "      <td>21604.0</td>\n",
       "      <td>79.0</td>\n",
       "      <td>379.200000</td>\n",
       "    </tr>\n",
       "    <tr>\n",
       "      <th>7067</th>\n",
       "      <td>0.0</td>\n",
       "      <td>85.0</td>\n",
       "      <td>790.784983</td>\n",
       "    </tr>\n",
       "    <tr>\n",
       "      <th>7068</th>\n",
       "      <td>21941.0</td>\n",
       "      <td>96.0</td>\n",
       "      <td>691.200000</td>\n",
       "    </tr>\n",
       "    <tr>\n",
       "      <th>7069</th>\n",
       "      <td>0.0</td>\n",
       "      <td>77.0</td>\n",
       "      <td>369.600000</td>\n",
       "    </tr>\n",
       "  </tbody>\n",
       "</table>\n",
       "<p>9135 rows × 3 columns</p>\n",
       "</div>"
      ],
      "text/plain": [
       "       Income  Monthly Premium Auto  Total Claim Amount\n",
       "0         0.0                1000.0            2.704934\n",
       "1         0.0                  94.0         1131.464935\n",
       "2     48767.0                 108.0          566.472247\n",
       "3         0.0                 106.0          529.881344\n",
       "4     36357.0                  68.0           17.269323\n",
       "...       ...                   ...                 ...\n",
       "7065  71941.0                  73.0          198.234764\n",
       "7066  21604.0                  79.0          379.200000\n",
       "7067      0.0                  85.0          790.784983\n",
       "7068  21941.0                  96.0          691.200000\n",
       "7069      0.0                  77.0          369.600000\n",
       "\n",
       "[9135 rows x 3 columns]"
      ]
     },
     "execution_count": 45,
     "metadata": {},
     "output_type": "execute_result"
    }
   ],
   "source": [
    "file._get_numeric_data()\n"
   ]
  },
  {
   "cell_type": "code",
   "execution_count": 46,
   "metadata": {},
   "outputs": [
    {
     "data": {
      "text/html": [
       "<div>\n",
       "<style scoped>\n",
       "    .dataframe tbody tr th:only-of-type {\n",
       "        vertical-align: middle;\n",
       "    }\n",
       "\n",
       "    .dataframe tbody tr th {\n",
       "        vertical-align: top;\n",
       "    }\n",
       "\n",
       "    .dataframe thead th {\n",
       "        text-align: right;\n",
       "    }\n",
       "</style>\n",
       "<table border=\"1\" class=\"dataframe\">\n",
       "  <thead>\n",
       "    <tr style=\"text-align: right;\">\n",
       "      <th></th>\n",
       "      <th>Customer</th>\n",
       "      <th>State</th>\n",
       "      <th>Gender</th>\n",
       "      <th>Education</th>\n",
       "      <th>Customer Lifetime Value</th>\n",
       "      <th>Number of Open Complaints</th>\n",
       "      <th>Policy Type</th>\n",
       "      <th>Vehicle Class</th>\n",
       "    </tr>\n",
       "  </thead>\n",
       "  <tbody>\n",
       "    <tr>\n",
       "      <th>0</th>\n",
       "      <td>RB50392</td>\n",
       "      <td>Washington</td>\n",
       "      <td>NaN</td>\n",
       "      <td>Master</td>\n",
       "      <td>NaN</td>\n",
       "      <td>1/0/00</td>\n",
       "      <td>Personal Auto</td>\n",
       "      <td>Four-Door Car</td>\n",
       "    </tr>\n",
       "    <tr>\n",
       "      <th>1</th>\n",
       "      <td>QZ44356</td>\n",
       "      <td>Arizona</td>\n",
       "      <td>F</td>\n",
       "      <td>Bachelor</td>\n",
       "      <td>697953.59%</td>\n",
       "      <td>1/0/00</td>\n",
       "      <td>Personal Auto</td>\n",
       "      <td>Four-Door Car</td>\n",
       "    </tr>\n",
       "    <tr>\n",
       "      <th>2</th>\n",
       "      <td>AI49188</td>\n",
       "      <td>Nevada</td>\n",
       "      <td>F</td>\n",
       "      <td>Bachelor</td>\n",
       "      <td>1288743.17%</td>\n",
       "      <td>1/0/00</td>\n",
       "      <td>Personal Auto</td>\n",
       "      <td>Two-Door Car</td>\n",
       "    </tr>\n",
       "    <tr>\n",
       "      <th>3</th>\n",
       "      <td>WW63253</td>\n",
       "      <td>California</td>\n",
       "      <td>M</td>\n",
       "      <td>Bachelor</td>\n",
       "      <td>764586.18%</td>\n",
       "      <td>1/0/00</td>\n",
       "      <td>Corporate Auto</td>\n",
       "      <td>SUV</td>\n",
       "    </tr>\n",
       "    <tr>\n",
       "      <th>4</th>\n",
       "      <td>GA49547</td>\n",
       "      <td>Washington</td>\n",
       "      <td>M</td>\n",
       "      <td>High School or Below</td>\n",
       "      <td>536307.65%</td>\n",
       "      <td>1/0/00</td>\n",
       "      <td>Personal Auto</td>\n",
       "      <td>Four-Door Car</td>\n",
       "    </tr>\n",
       "  </tbody>\n",
       "</table>\n",
       "</div>"
      ],
      "text/plain": [
       "  Customer       State Gender             Education Customer Lifetime Value  \\\n",
       "0  RB50392  Washington    NaN                Master                     NaN   \n",
       "1  QZ44356     Arizona      F              Bachelor              697953.59%   \n",
       "2  AI49188      Nevada      F              Bachelor             1288743.17%   \n",
       "3  WW63253  California      M              Bachelor              764586.18%   \n",
       "4  GA49547  Washington      M  High School or Below              536307.65%   \n",
       "\n",
       "  Number of Open Complaints     Policy Type  Vehicle Class  \n",
       "0                    1/0/00   Personal Auto  Four-Door Car  \n",
       "1                    1/0/00   Personal Auto  Four-Door Car  \n",
       "2                    1/0/00   Personal Auto   Two-Door Car  \n",
       "3                    1/0/00  Corporate Auto            SUV  \n",
       "4                    1/0/00   Personal Auto  Four-Door Car  "
      ]
     },
     "execution_count": 46,
     "metadata": {},
     "output_type": "execute_result"
    }
   ],
   "source": [
    "file.select_dtypes('object').head()"
   ]
  },
  {
   "cell_type": "code",
   "execution_count": 47,
   "metadata": {},
   "outputs": [],
   "source": [
    "# Change object to numeric data types:\n",
    "file['Customer Lifetime Value'] = pd.to_numeric(file['Customer Lifetime Value'],errors='coerce')\n",
    "file['Number of Open Complaints'] = pd.to_numeric(file['Number of Open Complaints'],errors='coerce')"
   ]
  },
  {
   "cell_type": "code",
   "execution_count": 48,
   "metadata": {},
   "outputs": [
    {
     "data": {
      "text/plain": [
       "Customer                      object\n",
       "State                         object\n",
       "Gender                        object\n",
       "Education                     object\n",
       "Customer Lifetime Value      float64\n",
       "Income                       float64\n",
       "Monthly Premium Auto         float64\n",
       "Number of Open Complaints    float64\n",
       "Policy Type                   object\n",
       "Vehicle Class                 object\n",
       "Total Claim Amount           float64\n",
       "dtype: object"
      ]
     },
     "execution_count": 48,
     "metadata": {},
     "output_type": "execute_result"
    }
   ],
   "source": [
    "# Check if data types have changed\n",
    "file.dtypes"
   ]
  },
  {
   "cell_type": "markdown",
   "metadata": {},
   "source": [
    "- Delete the column education and the number of open complaints from the dataframe.\n",
    "- Correct the values in the column customer lifetime value. They are given as a percent, so multiply them by 100 and change dtype to numerical type.\n",
    "- Check for duplicate rows in the data and remove if any.\n",
    "- Filter out the data for customers who have an income of 0 or less.\n"
   ]
  },
  {
   "cell_type": "code",
   "execution_count": 49,
   "metadata": {},
   "outputs": [
    {
     "data": {
      "text/html": [
       "<div>\n",
       "<style scoped>\n",
       "    .dataframe tbody tr th:only-of-type {\n",
       "        vertical-align: middle;\n",
       "    }\n",
       "\n",
       "    .dataframe tbody tr th {\n",
       "        vertical-align: top;\n",
       "    }\n",
       "\n",
       "    .dataframe thead th {\n",
       "        text-align: right;\n",
       "    }\n",
       "</style>\n",
       "<table border=\"1\" class=\"dataframe\">\n",
       "  <thead>\n",
       "    <tr style=\"text-align: right;\">\n",
       "      <th></th>\n",
       "      <th>State</th>\n",
       "      <th>Gender</th>\n",
       "      <th>Customer Lifetime Value</th>\n",
       "      <th>Income</th>\n",
       "      <th>Monthly Premium Auto</th>\n",
       "      <th>Policy Type</th>\n",
       "      <th>Vehicle Class</th>\n",
       "      <th>Total Claim Amount</th>\n",
       "    </tr>\n",
       "  </thead>\n",
       "  <tbody>\n",
       "    <tr>\n",
       "      <th>0</th>\n",
       "      <td>Washington</td>\n",
       "      <td>NaN</td>\n",
       "      <td>NaN</td>\n",
       "      <td>0.0</td>\n",
       "      <td>1000.0</td>\n",
       "      <td>Personal Auto</td>\n",
       "      <td>Four-Door Car</td>\n",
       "      <td>2.704934</td>\n",
       "    </tr>\n",
       "    <tr>\n",
       "      <th>1</th>\n",
       "      <td>Arizona</td>\n",
       "      <td>F</td>\n",
       "      <td>NaN</td>\n",
       "      <td>0.0</td>\n",
       "      <td>94.0</td>\n",
       "      <td>Personal Auto</td>\n",
       "      <td>Four-Door Car</td>\n",
       "      <td>1131.464935</td>\n",
       "    </tr>\n",
       "    <tr>\n",
       "      <th>2</th>\n",
       "      <td>Nevada</td>\n",
       "      <td>F</td>\n",
       "      <td>NaN</td>\n",
       "      <td>48767.0</td>\n",
       "      <td>108.0</td>\n",
       "      <td>Personal Auto</td>\n",
       "      <td>Two-Door Car</td>\n",
       "      <td>566.472247</td>\n",
       "    </tr>\n",
       "    <tr>\n",
       "      <th>3</th>\n",
       "      <td>California</td>\n",
       "      <td>M</td>\n",
       "      <td>NaN</td>\n",
       "      <td>0.0</td>\n",
       "      <td>106.0</td>\n",
       "      <td>Corporate Auto</td>\n",
       "      <td>SUV</td>\n",
       "      <td>529.881344</td>\n",
       "    </tr>\n",
       "    <tr>\n",
       "      <th>4</th>\n",
       "      <td>Washington</td>\n",
       "      <td>M</td>\n",
       "      <td>NaN</td>\n",
       "      <td>36357.0</td>\n",
       "      <td>68.0</td>\n",
       "      <td>Personal Auto</td>\n",
       "      <td>Four-Door Car</td>\n",
       "      <td>17.269323</td>\n",
       "    </tr>\n",
       "  </tbody>\n",
       "</table>\n",
       "</div>"
      ],
      "text/plain": [
       "        State Gender  Customer Lifetime Value   Income  Monthly Premium Auto  \\\n",
       "0  Washington    NaN                      NaN      0.0                1000.0   \n",
       "1     Arizona      F                      NaN      0.0                  94.0   \n",
       "2      Nevada      F                      NaN  48767.0                 108.0   \n",
       "3  California      M                      NaN      0.0                 106.0   \n",
       "4  Washington      M                      NaN  36357.0                  68.0   \n",
       "\n",
       "      Policy Type  Vehicle Class  Total Claim Amount  \n",
       "0   Personal Auto  Four-Door Car            2.704934  \n",
       "1   Personal Auto  Four-Door Car         1131.464935  \n",
       "2   Personal Auto   Two-Door Car          566.472247  \n",
       "3  Corporate Auto            SUV          529.881344  \n",
       "4   Personal Auto  Four-Door Car           17.269323  "
      ]
     },
     "execution_count": 49,
     "metadata": {},
     "output_type": "execute_result"
    }
   ],
   "source": [
    "#Delete the column education and the number of open complaints from the dataframe\n",
    "file = file.drop(['Customer','Number of Open Complaints','Education'], axis = 1)\n",
    "file.head()"
   ]
  },
  {
   "cell_type": "code",
   "execution_count": 50,
   "metadata": {},
   "outputs": [
    {
     "data": {
      "text/plain": [
       "(9135, 8)"
      ]
     },
     "execution_count": 50,
     "metadata": {},
     "output_type": "execute_result"
    }
   ],
   "source": [
    "file.shape"
   ]
  },
  {
   "cell_type": "code",
   "execution_count": 51,
   "metadata": {},
   "outputs": [
    {
     "data": {
      "text/plain": [
       "NaN             2065\n",
       "2359.423599        6\n",
       "10083.486880       6\n",
       "16473.169050       6\n",
       "4669.226640        6\n",
       "                ... \n",
       "6625.472768        1\n",
       "3350.687339        1\n",
       "7282.221435        1\n",
       "8110.536059        1\n",
       "12472.119900       1\n",
       "Name: Customer Lifetime Value, Length: 6289, dtype: int64"
      ]
     },
     "execution_count": 51,
     "metadata": {},
     "output_type": "execute_result"
    }
   ],
   "source": [
    "file['Customer Lifetime Value'].value_counts(dropna = False)"
   ]
  },
  {
   "cell_type": "code",
   "execution_count": 52,
   "metadata": {},
   "outputs": [
    {
     "data": {
      "text/plain": [
       "NaN           2065\n",
       "90.312149        6\n",
       "49.846187        6\n",
       "46.500638        6\n",
       "164.682208       6\n",
       "              ... \n",
       "28.191148        1\n",
       "49.213251        1\n",
       "34.027773        1\n",
       "81.327028        1\n",
       "51.752893        1\n",
       "Name: Customer Lifetime Value, Length: 6289, dtype: int64"
      ]
     },
     "execution_count": 52,
     "metadata": {},
     "output_type": "execute_result"
    }
   ],
   "source": [
    "#Correct the values in the column customer lifetime value\n",
    "update_data = []\n",
    "for number in file['Customer Lifetime Value']:\n",
    "    x = number/100\n",
    "    update_data.append(x)\n",
    "\n",
    "file['Customer Lifetime Value'] = update_data    \n",
    "    \n",
    "file['Customer Lifetime Value'].value_counts (dropna = False)"
   ]
  },
  {
   "cell_type": "code",
   "execution_count": 65,
   "metadata": {},
   "outputs": [
    {
     "data": {
      "text/html": [
       "<div>\n",
       "<style scoped>\n",
       "    .dataframe tbody tr th:only-of-type {\n",
       "        vertical-align: middle;\n",
       "    }\n",
       "\n",
       "    .dataframe tbody tr th {\n",
       "        vertical-align: top;\n",
       "    }\n",
       "\n",
       "    .dataframe thead th {\n",
       "        text-align: right;\n",
       "    }\n",
       "</style>\n",
       "<table border=\"1\" class=\"dataframe\">\n",
       "  <thead>\n",
       "    <tr style=\"text-align: right;\">\n",
       "      <th></th>\n",
       "      <th>State</th>\n",
       "      <th>Gender</th>\n",
       "      <th>Customer Lifetime Value</th>\n",
       "      <th>Income</th>\n",
       "      <th>Monthly Premium Auto</th>\n",
       "      <th>Policy Type</th>\n",
       "      <th>Vehicle Class</th>\n",
       "      <th>Total Claim Amount</th>\n",
       "    </tr>\n",
       "  </thead>\n",
       "  <tbody>\n",
       "    <tr>\n",
       "      <th>2</th>\n",
       "      <td>Nevada</td>\n",
       "      <td>F</td>\n",
       "      <td>81.473817</td>\n",
       "      <td>48767.0</td>\n",
       "      <td>108.0</td>\n",
       "      <td>Personal Auto</td>\n",
       "      <td>Two-Door Car</td>\n",
       "      <td>566.472247</td>\n",
       "    </tr>\n",
       "    <tr>\n",
       "      <th>4</th>\n",
       "      <td>Washington</td>\n",
       "      <td>M</td>\n",
       "      <td>81.473817</td>\n",
       "      <td>36357.0</td>\n",
       "      <td>68.0</td>\n",
       "      <td>Personal Auto</td>\n",
       "      <td>Four-Door Car</td>\n",
       "      <td>17.269323</td>\n",
       "    </tr>\n",
       "    <tr>\n",
       "      <th>5</th>\n",
       "      <td>Oregon</td>\n",
       "      <td>F</td>\n",
       "      <td>81.473817</td>\n",
       "      <td>62902.0</td>\n",
       "      <td>69.0</td>\n",
       "      <td>Personal Auto</td>\n",
       "      <td>Two-Door Car</td>\n",
       "      <td>159.383042</td>\n",
       "    </tr>\n",
       "    <tr>\n",
       "      <th>6</th>\n",
       "      <td>Oregon</td>\n",
       "      <td>F</td>\n",
       "      <td>81.473817</td>\n",
       "      <td>55350.0</td>\n",
       "      <td>67.0</td>\n",
       "      <td>Corporate Auto</td>\n",
       "      <td>Four-Door Car</td>\n",
       "      <td>321.600000</td>\n",
       "    </tr>\n",
       "    <tr>\n",
       "      <th>8</th>\n",
       "      <td>Oregon</td>\n",
       "      <td>M</td>\n",
       "      <td>81.473817</td>\n",
       "      <td>14072.0</td>\n",
       "      <td>71.0</td>\n",
       "      <td>Corporate Auto</td>\n",
       "      <td>Four-Door Car</td>\n",
       "      <td>511.200000</td>\n",
       "    </tr>\n",
       "  </tbody>\n",
       "</table>\n",
       "</div>"
      ],
      "text/plain": [
       "        State Gender  Customer Lifetime Value   Income  Monthly Premium Auto  \\\n",
       "2      Nevada      F                81.473817  48767.0                 108.0   \n",
       "4  Washington      M                81.473817  36357.0                  68.0   \n",
       "5      Oregon      F                81.473817  62902.0                  69.0   \n",
       "6      Oregon      F                81.473817  55350.0                  67.0   \n",
       "8      Oregon      M                81.473817  14072.0                  71.0   \n",
       "\n",
       "      Policy Type  Vehicle Class  Total Claim Amount  \n",
       "2   Personal Auto   Two-Door Car          566.472247  \n",
       "4   Personal Auto  Four-Door Car           17.269323  \n",
       "5   Personal Auto   Two-Door Car          159.383042  \n",
       "6  Corporate Auto  Four-Door Car          321.600000  \n",
       "8  Corporate Auto  Four-Door Car          511.200000  "
      ]
     },
     "execution_count": 65,
     "metadata": {},
     "output_type": "execute_result"
    }
   ],
   "source": [
    "#Filter out the data for customers who have an income of 0 or less.\n",
    "file = file[file['Income'] > 0]\n",
    "file.head()"
   ]
  },
  {
   "cell_type": "code",
   "execution_count": 74,
   "metadata": {},
   "outputs": [
    {
     "data": {
      "text/html": [
       "<div>\n",
       "<style scoped>\n",
       "    .dataframe tbody tr th:only-of-type {\n",
       "        vertical-align: middle;\n",
       "    }\n",
       "\n",
       "    .dataframe tbody tr th {\n",
       "        vertical-align: top;\n",
       "    }\n",
       "\n",
       "    .dataframe thead th {\n",
       "        text-align: right;\n",
       "    }\n",
       "</style>\n",
       "<table border=\"1\" class=\"dataframe\">\n",
       "  <thead>\n",
       "    <tr style=\"text-align: right;\">\n",
       "      <th></th>\n",
       "      <th>State</th>\n",
       "      <th>Gender</th>\n",
       "      <th>Customer Lifetime Value</th>\n",
       "      <th>Income</th>\n",
       "      <th>Monthly Premium Auto</th>\n",
       "      <th>Policy Type</th>\n",
       "      <th>Vehicle Class</th>\n",
       "      <th>Total Claim Amount</th>\n",
       "    </tr>\n",
       "  </thead>\n",
       "  <tbody>\n",
       "    <tr>\n",
       "      <th>2</th>\n",
       "      <td>Nevada</td>\n",
       "      <td>F</td>\n",
       "      <td>81.47</td>\n",
       "      <td>48767.0</td>\n",
       "      <td>108.0</td>\n",
       "      <td>Personal Auto</td>\n",
       "      <td>Two-Door Car</td>\n",
       "      <td>566.47</td>\n",
       "    </tr>\n",
       "    <tr>\n",
       "      <th>4</th>\n",
       "      <td>Washington</td>\n",
       "      <td>M</td>\n",
       "      <td>81.47</td>\n",
       "      <td>36357.0</td>\n",
       "      <td>68.0</td>\n",
       "      <td>Personal Auto</td>\n",
       "      <td>Four-Door Car</td>\n",
       "      <td>17.27</td>\n",
       "    </tr>\n",
       "    <tr>\n",
       "      <th>5</th>\n",
       "      <td>Oregon</td>\n",
       "      <td>F</td>\n",
       "      <td>81.47</td>\n",
       "      <td>62902.0</td>\n",
       "      <td>69.0</td>\n",
       "      <td>Personal Auto</td>\n",
       "      <td>Two-Door Car</td>\n",
       "      <td>159.38</td>\n",
       "    </tr>\n",
       "    <tr>\n",
       "      <th>6</th>\n",
       "      <td>Oregon</td>\n",
       "      <td>F</td>\n",
       "      <td>81.47</td>\n",
       "      <td>55350.0</td>\n",
       "      <td>67.0</td>\n",
       "      <td>Corporate Auto</td>\n",
       "      <td>Four-Door Car</td>\n",
       "      <td>321.60</td>\n",
       "    </tr>\n",
       "    <tr>\n",
       "      <th>8</th>\n",
       "      <td>Oregon</td>\n",
       "      <td>M</td>\n",
       "      <td>81.47</td>\n",
       "      <td>14072.0</td>\n",
       "      <td>71.0</td>\n",
       "      <td>Corporate Auto</td>\n",
       "      <td>Four-Door Car</td>\n",
       "      <td>511.20</td>\n",
       "    </tr>\n",
       "  </tbody>\n",
       "</table>\n",
       "</div>"
      ],
      "text/plain": [
       "        State Gender  Customer Lifetime Value   Income  Monthly Premium Auto  \\\n",
       "2      Nevada      F                    81.47  48767.0                 108.0   \n",
       "4  Washington      M                    81.47  36357.0                  68.0   \n",
       "5      Oregon      F                    81.47  62902.0                  69.0   \n",
       "6      Oregon      F                    81.47  55350.0                  67.0   \n",
       "8      Oregon      M                    81.47  14072.0                  71.0   \n",
       "\n",
       "      Policy Type  Vehicle Class  Total Claim Amount  \n",
       "2   Personal Auto   Two-Door Car              566.47  \n",
       "4   Personal Auto  Four-Door Car               17.27  \n",
       "5   Personal Auto   Two-Door Car              159.38  \n",
       "6  Corporate Auto  Four-Door Car              321.60  \n",
       "8  Corporate Auto  Four-Door Car              511.20  "
      ]
     },
     "execution_count": 74,
     "metadata": {},
     "output_type": "execute_result"
    }
   ],
   "source": [
    "# Round Customer Lifetime Value and Total Claim Amount to two decimal points\n",
    "file['Customer Lifetime Value'] = list(map(lambda x: round(x,2), file['Customer Lifetime Value']))\n",
    "file['Total Claim Amount'] = list(map(lambda x: round(x,2), file['Total Claim Amount']))\n",
    "file.head()"
   ]
  },
  {
   "cell_type": "code",
   "execution_count": 86,
   "metadata": {},
   "outputs": [
    {
     "data": {
      "text/plain": [
       "State                       object\n",
       "Gender                      object\n",
       "Customer Lifetime Value    float64\n",
       "Income                     float64\n",
       "Monthly Premium Auto       float64\n",
       "Policy Type                 object\n",
       "Vehicle Class               object\n",
       "Total Claim Amount         float64\n",
       "dtype: object"
      ]
     },
     "execution_count": 86,
     "metadata": {},
     "output_type": "execute_result"
    }
   ],
   "source": [
    "# Check file data types (Convert object into numerical if necessary)\n",
    "file.dtypes"
   ]
  },
  {
   "cell_type": "markdown",
   "metadata": {},
   "source": [
    "- Check and deal with NaN values.\n",
    "- Datetime format- Extract the months from the dataset and store in a separate column. Then filter the data to show only the information for the first quarter , ie Jan Feb and March\n",
    "- BONUS: Put all the previously mentioned data transformations into a function"
   ]
  },
  {
   "cell_type": "code",
   "execution_count": 55,
   "metadata": {},
   "outputs": [
    {
     "data": {
      "text/plain": [
       "State                         0\n",
       "Gender                       98\n",
       "Customer Lifetime Value    1591\n",
       "Income                        0\n",
       "Monthly Premium Auto          0\n",
       "Policy Type                   0\n",
       "Vehicle Class                 0\n",
       "Total Claim Amount            0\n",
       "dtype: int64"
      ]
     },
     "execution_count": 55,
     "metadata": {},
     "output_type": "execute_result"
    }
   ],
   "source": [
    "# Check for NaN values\n",
    "file.isna().sum()"
   ]
  },
  {
   "cell_type": "code",
   "execution_count": 56,
   "metadata": {},
   "outputs": [
    {
     "data": {
      "text/plain": [
       "array(['F', 'M', nan, 'Femal', 'Male', 'female'], dtype=object)"
      ]
     },
     "execution_count": 56,
     "metadata": {},
     "output_type": "execute_result"
    }
   ],
   "source": [
    "# To remove NaN values in categorical columns:\n",
    "file['Gender'].unique()"
   ]
  },
  {
   "cell_type": "code",
   "execution_count": 57,
   "metadata": {},
   "outputs": [
    {
     "data": {
      "text/plain": [
       "F      3492\n",
       "M      3250\n",
       "NaN      98\n",
       "Name: Gender, dtype: int64"
      ]
     },
     "execution_count": 57,
     "metadata": {},
     "output_type": "execute_result"
    }
   ],
   "source": [
    "# To clean values that are not standardized:\n",
    "def clean(x):\n",
    "    if x in ['F', 'female', 'Femal']:\n",
    "        return 'F'\n",
    "    elif x in ['M','Male']:\n",
    "        return 'M'\n",
    "    \n",
    "file['Gender'] = list(map(clean,file['Gender']))\n",
    "\n",
    "file['Gender'].value_counts(dropna=False)"
   ]
  },
  {
   "cell_type": "code",
   "execution_count": 58,
   "metadata": {},
   "outputs": [
    {
     "data": {
      "text/plain": [
       "0"
      ]
     },
     "execution_count": 58,
     "metadata": {},
     "output_type": "execute_result"
    }
   ],
   "source": [
    "# use most common value to fillna\n",
    "file['Gender'] = file['Gender'].fillna('F')\n",
    "len(file[file['Gender'].isna()==True]) # now this number is 0"
   ]
  },
  {
   "cell_type": "code",
   "execution_count": 59,
   "metadata": {},
   "outputs": [
    {
     "data": {
      "text/plain": [
       "F    3590\n",
       "M    3250\n",
       "Name: Gender, dtype: int64"
      ]
     },
     "execution_count": 59,
     "metadata": {},
     "output_type": "execute_result"
    }
   ],
   "source": [
    "file['Gender'].value_counts(dropna=False)"
   ]
  },
  {
   "cell_type": "code",
   "execution_count": 60,
   "metadata": {},
   "outputs": [
    {
     "data": {
      "text/plain": [
       "81.473817     1591\n",
       "46.692266        6\n",
       "65.213688        6\n",
       "51.071630        6\n",
       "261.974150       6\n",
       "              ... \n",
       "79.338207        1\n",
       "90.529511        1\n",
       "43.156705        1\n",
       "258.055060       1\n",
       "49.574043        1\n",
       "Name: Customer Lifetime Value, Length: 4592, dtype: int64"
      ]
     },
     "execution_count": 60,
     "metadata": {},
     "output_type": "execute_result"
    }
   ],
   "source": [
    "# To remove NaN values in numerical columns:\n",
    "mean_customer_lifetime_value = np.mean(file['Customer Lifetime Value'])\n",
    "file['Customer Lifetime Value'] = file['Customer Lifetime Value'].fillna(mean_customer_lifetime_value)\n",
    "\n",
    "file['Customer Lifetime Value'].value_counts(dropna=False)"
   ]
  },
  {
   "cell_type": "code",
   "execution_count": 61,
   "metadata": {},
   "outputs": [
    {
     "data": {
      "text/plain": [
       "State                      0\n",
       "Gender                     0\n",
       "Customer Lifetime Value    0\n",
       "Income                     0\n",
       "Monthly Premium Auto       0\n",
       "Policy Type                0\n",
       "Vehicle Class              0\n",
       "Total Claim Amount         0\n",
       "dtype: int64"
      ]
     },
     "execution_count": 61,
     "metadata": {},
     "output_type": "execute_result"
    }
   ],
   "source": [
    "# All NaN values removed\n",
    "file.isna().sum()"
   ]
  },
  {
   "cell_type": "code",
   "execution_count": 75,
   "metadata": {},
   "outputs": [
    {
     "data": {
      "text/html": [
       "<div>\n",
       "<style scoped>\n",
       "    .dataframe tbody tr th:only-of-type {\n",
       "        vertical-align: middle;\n",
       "    }\n",
       "\n",
       "    .dataframe tbody tr th {\n",
       "        vertical-align: top;\n",
       "    }\n",
       "\n",
       "    .dataframe thead th {\n",
       "        text-align: right;\n",
       "    }\n",
       "</style>\n",
       "<table border=\"1\" class=\"dataframe\">\n",
       "  <thead>\n",
       "    <tr style=\"text-align: right;\">\n",
       "      <th></th>\n",
       "      <th>State</th>\n",
       "      <th>Gender</th>\n",
       "      <th>Customer Lifetime Value</th>\n",
       "      <th>Income</th>\n",
       "      <th>Monthly Premium Auto</th>\n",
       "      <th>Policy Type</th>\n",
       "      <th>Vehicle Class</th>\n",
       "      <th>Total Claim Amount</th>\n",
       "    </tr>\n",
       "  </thead>\n",
       "  <tbody>\n",
       "    <tr>\n",
       "      <th>0</th>\n",
       "      <td>Nevada</td>\n",
       "      <td>F</td>\n",
       "      <td>81.47</td>\n",
       "      <td>48767.0</td>\n",
       "      <td>108.0</td>\n",
       "      <td>Personal Auto</td>\n",
       "      <td>Two-Door Car</td>\n",
       "      <td>566.47</td>\n",
       "    </tr>\n",
       "    <tr>\n",
       "      <th>1</th>\n",
       "      <td>Washington</td>\n",
       "      <td>M</td>\n",
       "      <td>81.47</td>\n",
       "      <td>36357.0</td>\n",
       "      <td>68.0</td>\n",
       "      <td>Personal Auto</td>\n",
       "      <td>Four-Door Car</td>\n",
       "      <td>17.27</td>\n",
       "    </tr>\n",
       "    <tr>\n",
       "      <th>2</th>\n",
       "      <td>Oregon</td>\n",
       "      <td>F</td>\n",
       "      <td>81.47</td>\n",
       "      <td>62902.0</td>\n",
       "      <td>69.0</td>\n",
       "      <td>Personal Auto</td>\n",
       "      <td>Two-Door Car</td>\n",
       "      <td>159.38</td>\n",
       "    </tr>\n",
       "    <tr>\n",
       "      <th>3</th>\n",
       "      <td>Oregon</td>\n",
       "      <td>F</td>\n",
       "      <td>81.47</td>\n",
       "      <td>55350.0</td>\n",
       "      <td>67.0</td>\n",
       "      <td>Corporate Auto</td>\n",
       "      <td>Four-Door Car</td>\n",
       "      <td>321.60</td>\n",
       "    </tr>\n",
       "    <tr>\n",
       "      <th>4</th>\n",
       "      <td>Oregon</td>\n",
       "      <td>M</td>\n",
       "      <td>81.47</td>\n",
       "      <td>14072.0</td>\n",
       "      <td>71.0</td>\n",
       "      <td>Corporate Auto</td>\n",
       "      <td>Four-Door Car</td>\n",
       "      <td>511.20</td>\n",
       "    </tr>\n",
       "  </tbody>\n",
       "</table>\n",
       "</div>"
      ],
      "text/plain": [
       "        State Gender  Customer Lifetime Value   Income  Monthly Premium Auto  \\\n",
       "0      Nevada      F                    81.47  48767.0                 108.0   \n",
       "1  Washington      M                    81.47  36357.0                  68.0   \n",
       "2      Oregon      F                    81.47  62902.0                  69.0   \n",
       "3      Oregon      F                    81.47  55350.0                  67.0   \n",
       "4      Oregon      M                    81.47  14072.0                  71.0   \n",
       "\n",
       "      Policy Type  Vehicle Class  Total Claim Amount  \n",
       "0   Personal Auto   Two-Door Car              566.47  \n",
       "1   Personal Auto  Four-Door Car               17.27  \n",
       "2   Personal Auto   Two-Door Car              159.38  \n",
       "3  Corporate Auto  Four-Door Car              321.60  \n",
       "4  Corporate Auto  Four-Door Car              511.20  "
      ]
     },
     "execution_count": 75,
     "metadata": {},
     "output_type": "execute_result"
    }
   ],
   "source": [
    "# After all transformations reset index\n",
    "file = file.reset_index(drop=True)\n",
    "file.head()"
   ]
  },
  {
   "cell_type": "markdown",
   "metadata": {},
   "source": [
    "- Describe DataFrame.\n",
    "- Perform EDA (Exploratory Data Analysis), use different charts"
   ]
  },
  {
   "cell_type": "code",
   "execution_count": 62,
   "metadata": {},
   "outputs": [
    {
     "data": {
      "text/html": [
       "<div>\n",
       "<style scoped>\n",
       "    .dataframe tbody tr th:only-of-type {\n",
       "        vertical-align: middle;\n",
       "    }\n",
       "\n",
       "    .dataframe tbody tr th {\n",
       "        vertical-align: top;\n",
       "    }\n",
       "\n",
       "    .dataframe thead th {\n",
       "        text-align: right;\n",
       "    }\n",
       "</style>\n",
       "<table border=\"1\" class=\"dataframe\">\n",
       "  <thead>\n",
       "    <tr style=\"text-align: right;\">\n",
       "      <th></th>\n",
       "      <th>count</th>\n",
       "      <th>mean</th>\n",
       "      <th>std</th>\n",
       "      <th>min</th>\n",
       "      <th>25%</th>\n",
       "      <th>50%</th>\n",
       "      <th>75%</th>\n",
       "      <th>max</th>\n",
       "    </tr>\n",
       "  </thead>\n",
       "  <tbody>\n",
       "    <tr>\n",
       "      <th>Customer Lifetime Value</th>\n",
       "      <td>6840.0</td>\n",
       "      <td>81.473817</td>\n",
       "      <td>61.717273</td>\n",
       "      <td>21.198943</td>\n",
       "      <td>47.900335</td>\n",
       "      <td>79.311624</td>\n",
       "      <td>81.838407</td>\n",
       "      <td>833.253812</td>\n",
       "    </tr>\n",
       "    <tr>\n",
       "      <th>Income</th>\n",
       "      <td>6840.0</td>\n",
       "      <td>50510.548684</td>\n",
       "      <td>24289.646795</td>\n",
       "      <td>10037.000000</td>\n",
       "      <td>28499.500000</td>\n",
       "      <td>48111.000000</td>\n",
       "      <td>70263.000000</td>\n",
       "      <td>99981.000000</td>\n",
       "    </tr>\n",
       "    <tr>\n",
       "      <th>Monthly Premium Auto</th>\n",
       "      <td>6840.0</td>\n",
       "      <td>114.326901</td>\n",
       "      <td>660.324241</td>\n",
       "      <td>61.000000</td>\n",
       "      <td>68.000000</td>\n",
       "      <td>82.000000</td>\n",
       "      <td>109.000000</td>\n",
       "      <td>35354.000000</td>\n",
       "    </tr>\n",
       "    <tr>\n",
       "      <th>Total Claim Amount</th>\n",
       "      <td>6840.0</td>\n",
       "      <td>374.577384</td>\n",
       "      <td>251.423815</td>\n",
       "      <td>0.099007</td>\n",
       "      <td>207.751860</td>\n",
       "      <td>340.800000</td>\n",
       "      <td>494.400000</td>\n",
       "      <td>2893.239678</td>\n",
       "    </tr>\n",
       "  </tbody>\n",
       "</table>\n",
       "</div>"
      ],
      "text/plain": [
       "                          count          mean           std           min  \\\n",
       "Customer Lifetime Value  6840.0     81.473817     61.717273     21.198943   \n",
       "Income                   6840.0  50510.548684  24289.646795  10037.000000   \n",
       "Monthly Premium Auto     6840.0    114.326901    660.324241     61.000000   \n",
       "Total Claim Amount       6840.0    374.577384    251.423815      0.099007   \n",
       "\n",
       "                                  25%           50%           75%  \\\n",
       "Customer Lifetime Value     47.900335     79.311624     81.838407   \n",
       "Income                   28499.500000  48111.000000  70263.000000   \n",
       "Monthly Premium Auto        68.000000     82.000000    109.000000   \n",
       "Total Claim Amount         207.751860    340.800000    494.400000   \n",
       "\n",
       "                                  max  \n",
       "Customer Lifetime Value    833.253812  \n",
       "Income                   99981.000000  \n",
       "Monthly Premium Auto     35354.000000  \n",
       "Total Claim Amount        2893.239678  "
      ]
     },
     "execution_count": 62,
     "metadata": {},
     "output_type": "execute_result"
    }
   ],
   "source": [
    "# Describe Data Frame numerical\n",
    "file.describe().T\n",
    "\n",
    "# The difference between the 75% and the max suggest that there are extreme outliers"
   ]
  },
  {
   "cell_type": "code",
   "execution_count": 63,
   "metadata": {},
   "outputs": [
    {
     "data": {
      "text/html": [
       "<div>\n",
       "<style scoped>\n",
       "    .dataframe tbody tr th:only-of-type {\n",
       "        vertical-align: middle;\n",
       "    }\n",
       "\n",
       "    .dataframe tbody tr th {\n",
       "        vertical-align: top;\n",
       "    }\n",
       "\n",
       "    .dataframe thead th {\n",
       "        text-align: right;\n",
       "    }\n",
       "</style>\n",
       "<table border=\"1\" class=\"dataframe\">\n",
       "  <thead>\n",
       "    <tr style=\"text-align: right;\">\n",
       "      <th></th>\n",
       "      <th>count</th>\n",
       "      <th>unique</th>\n",
       "      <th>top</th>\n",
       "      <th>freq</th>\n",
       "    </tr>\n",
       "  </thead>\n",
       "  <tbody>\n",
       "    <tr>\n",
       "      <th>State</th>\n",
       "      <td>6840</td>\n",
       "      <td>8</td>\n",
       "      <td>California</td>\n",
       "      <td>2250</td>\n",
       "    </tr>\n",
       "    <tr>\n",
       "      <th>Gender</th>\n",
       "      <td>6840</td>\n",
       "      <td>2</td>\n",
       "      <td>F</td>\n",
       "      <td>3590</td>\n",
       "    </tr>\n",
       "    <tr>\n",
       "      <th>Policy Type</th>\n",
       "      <td>6840</td>\n",
       "      <td>3</td>\n",
       "      <td>Personal Auto</td>\n",
       "      <td>5090</td>\n",
       "    </tr>\n",
       "    <tr>\n",
       "      <th>Vehicle Class</th>\n",
       "      <td>6840</td>\n",
       "      <td>6</td>\n",
       "      <td>Four-Door Car</td>\n",
       "      <td>3496</td>\n",
       "    </tr>\n",
       "  </tbody>\n",
       "</table>\n",
       "</div>"
      ],
      "text/plain": [
       "              count unique            top  freq\n",
       "State          6840      8     California  2250\n",
       "Gender         6840      2              F  3590\n",
       "Policy Type    6840      3  Personal Auto  5090\n",
       "Vehicle Class  6840      6  Four-Door Car  3496"
      ]
     },
     "execution_count": 63,
     "metadata": {},
     "output_type": "execute_result"
    }
   ],
   "source": [
    "# Describe Data Frame categorical\n",
    "file.describe(include=[np.object]).T"
   ]
  },
  {
   "cell_type": "code",
   "execution_count": 67,
   "metadata": {},
   "outputs": [
    {
     "data": {
      "image/png": "[encoded data removed]",
      "text/plain": [
       "<Figure size 720x720 with 20 Axes>"
      ]
     },
     "metadata": {
      "needs_background": "light"
     },
     "output_type": "display_data"
    }
   ],
   "source": [
    "# Check for any visible correlations\n",
    "sns.pairplot(file)\n",
    "plt.show()"
   ]
  },
  {
   "cell_type": "code",
   "execution_count": 69,
   "metadata": {},
   "outputs": [
    {
     "data": {
      "text/plain": [
       "<AxesSubplot:xlabel='Customer Lifetime Value', ylabel='Total Claim Amount'>"
      ]
     },
     "execution_count": 69,
     "metadata": {},
     "output_type": "execute_result"
    },
    {
     "data": {
      "image/png": "[encoded data removed]",
      "text/plain": [
       "<Figure size 432x288 with 1 Axes>"
      ]
     },
     "metadata": {
      "needs_background": "light"
     },
     "output_type": "display_data"
    }
   ],
   "source": [
    "# The only visible correlation\n",
    "sns.scatterplot(x='Customer Lifetime Value', y = 'Total Claim Amount', data=file)"
   ]
  },
  {
   "cell_type": "code",
   "execution_count": 71,
   "metadata": {},
   "outputs": [],
   "source": [
    "import scipy.stats as stats"
   ]
  },
  {
   "cell_type": "code",
   "execution_count": 73,
   "metadata": {},
   "outputs": [
    {
     "data": {
      "text/plain": [
       "(0.22518110480830647, 2.3069289931579327e-79)"
      ]
     },
     "execution_count": 73,
     "metadata": {},
     "output_type": "execute_result"
    }
   ],
   "source": [
    "x=file['Customer Lifetime Value']\n",
    "y=file['Total Claim Amount']\n",
    "stats.pearsonr(x, y) # gives correlation coefficient and the p value \n",
    "\n",
    "#Results in a very poor correlation and a high p-value"
   ]
  },
  {
   "cell_type": "code",
   "execution_count": 68,
   "metadata": {},
   "outputs": [
    {
     "data": {
      "image/png": "[encoded data removed]",
      "text/plain": [
       "<Figure size 432x288 with 2 Axes>"
      ]
     },
     "metadata": {
      "needs_background": "light"
     },
     "output_type": "display_data"
    }
   ],
   "source": [
    "# Checking correlations heatmap  (on numerical values)\n",
    "correlations_matrix = file.corr()\n",
    "sns.heatmap(correlations_matrix, annot=True)\n",
    "plt.show()"
   ]
  },
  {
   "cell_type": "code",
   "execution_count": 76,
   "metadata": {},
   "outputs": [
    {
     "data": {
      "image/png": "[encoded data removed]",
      "text/plain": [
       "<Figure size 432x288 with 1 Axes>"
      ]
     },
     "metadata": {
      "needs_background": "light"
     },
     "output_type": "display_data"
    }
   ],
   "source": [
    "file['Customer Lifetime Value'].hist()\n",
    "plt.show()"
   ]
  },
  {
   "cell_type": "code",
   "execution_count": 77,
   "metadata": {},
   "outputs": [
    {
     "data": {
      "image/png": "[encoded data removed]",
      "text/plain": [
       "<Figure size 432x288 with 1 Axes>"
      ]
     },
     "metadata": {
      "needs_background": "light"
     },
     "output_type": "display_data"
    }
   ],
   "source": [
    "file['Income'].hist()\n",
    "plt.show()"
   ]
  },
  {
   "cell_type": "code",
   "execution_count": 78,
   "metadata": {},
   "outputs": [
    {
     "data": {
      "image/png": "[encoded data removed]",
      "text/plain": [
       "<Figure size 432x288 with 1 Axes>"
      ]
     },
     "metadata": {
      "needs_background": "light"
     },
     "output_type": "display_data"
    }
   ],
   "source": [
    "file['Monthly Premium Auto'].hist()\n",
    "plt.show()"
   ]
  },
  {
   "cell_type": "code",
   "execution_count": 79,
   "metadata": {
    "scrolled": true
   },
   "outputs": [
    {
     "data": {
      "image/png": "[encoded data removed]",
      "text/plain": [
       "<Figure size 432x288 with 1 Axes>"
      ]
     },
     "metadata": {
      "needs_background": "light"
     },
     "output_type": "display_data"
    }
   ],
   "source": [
    "file['Total Claim Amount'].hist()\n",
    "plt.show()"
   ]
  },
  {
   "cell_type": "code",
   "execution_count": 85,
   "metadata": {},
   "outputs": [
    {
     "data": {
      "text/html": [
       "<div>\n",
       "<style scoped>\n",
       "    .dataframe tbody tr th:only-of-type {\n",
       "        vertical-align: middle;\n",
       "    }\n",
       "\n",
       "    .dataframe tbody tr th {\n",
       "        vertical-align: top;\n",
       "    }\n",
       "\n",
       "    .dataframe thead th {\n",
       "        text-align: right;\n",
       "    }\n",
       "</style>\n",
       "<table border=\"1\" class=\"dataframe\">\n",
       "  <thead>\n",
       "    <tr style=\"text-align: right;\">\n",
       "      <th></th>\n",
       "      <th>Customer Lifetime Value</th>\n",
       "      <th>Income</th>\n",
       "      <th>Monthly Premium Auto</th>\n",
       "    </tr>\n",
       "  </thead>\n",
       "  <tbody>\n",
       "    <tr>\n",
       "      <th>128</th>\n",
       "      <td>81.47</td>\n",
       "      <td>70699.0</td>\n",
       "      <td>82.0</td>\n",
       "    </tr>\n",
       "    <tr>\n",
       "      <th>5570</th>\n",
       "      <td>134.67</td>\n",
       "      <td>11432.0</td>\n",
       "      <td>119.0</td>\n",
       "    </tr>\n",
       "    <tr>\n",
       "      <th>662</th>\n",
       "      <td>81.47</td>\n",
       "      <td>89057.0</td>\n",
       "      <td>98.0</td>\n",
       "    </tr>\n",
       "    <tr>\n",
       "      <th>2047</th>\n",
       "      <td>53.32</td>\n",
       "      <td>68931.0</td>\n",
       "      <td>66.0</td>\n",
       "    </tr>\n",
       "    <tr>\n",
       "      <th>2175</th>\n",
       "      <td>83.07</td>\n",
       "      <td>89834.0</td>\n",
       "      <td>105.0</td>\n",
       "    </tr>\n",
       "  </tbody>\n",
       "</table>\n",
       "</div>"
      ],
      "text/plain": [
       "      Customer Lifetime Value   Income  Monthly Premium Auto\n",
       "128                     81.47  70699.0                  82.0\n",
       "5570                   134.67  11432.0                 119.0\n",
       "662                     81.47  89057.0                  98.0\n",
       "2047                    53.32  68931.0                  66.0\n",
       "2175                    83.07  89834.0                 105.0"
      ]
     },
     "execution_count": 85,
     "metadata": {},
     "output_type": "execute_result"
    }
   ],
   "source": [
    "# Before the data is manipulated any further we can run a preliminary linear regression model analysis\n",
    "# on only the numerical values.   (Splitting into numerical and categorical)\n",
    "file_num = file.select_dtypes(include = np.number)\n",
    "file_cat = file.select_dtypes(include = np.object)\n",
    "\n",
    "#Splitting into train set and test set.\n",
    "from sklearn.model_selection import train_test_split\n",
    "\n",
    "Y = file['Total Claim Amount']\n",
    "X = file_num.drop(['Total Claim Amount'], axis=1)\n",
    "\n",
    "X_train, X_test, y_train, y_test = train_test_split(X, y, test_size=0.2, random_state=100)\n",
    "\n",
    "X_train.head()"
   ]
  },
  {
   "cell_type": "code",
   "execution_count": 87,
   "metadata": {},
   "outputs": [
    {
     "data": {
      "text/plain": [
       "(5472, 3)"
      ]
     },
     "execution_count": 87,
     "metadata": {},
     "output_type": "execute_result"
    }
   ],
   "source": [
    "X_train.shape"
   ]
  },
  {
   "cell_type": "code",
   "execution_count": 88,
   "metadata": {},
   "outputs": [],
   "source": [
    "# Apply lR model to the test sample\n",
    "from sklearn import linear_model\n",
    "lm = linear_model.LinearRegression()\n",
    "model = lm.fit(X_train,y_train)"
   ]
  },
  {
   "cell_type": "code",
   "execution_count": 89,
   "metadata": {},
   "outputs": [
    {
     "data": {
      "text/plain": [
       "array([302.74952585, 271.64797256, 353.28732074, ..., 494.05861537,\n",
       "       320.31274876, 365.39151592])"
      ]
     },
     "execution_count": 89,
     "metadata": {},
     "output_type": "execute_result"
    }
   ],
   "source": [
    "lm.predict(X_test)"
   ]
  },
  {
   "cell_type": "code",
   "execution_count": 90,
   "metadata": {},
   "outputs": [
    {
     "name": "stdout",
     "output_type": "stream",
     "text": [
      "r2: 0.10748066932368494\n",
      "mse: 58944.802013712775\n",
      "rmse: 242.78550618542445\n",
      "mae: 175.0045685255077\n"
     ]
    }
   ],
   "source": [
    "# Apply prediction metrics to see the accuracy of the model\n",
    "from sklearn.metrics import mean_squared_error, r2_score\n",
    "import math\n",
    "from sklearn.metrics import mean_absolute_error\n",
    "\n",
    "\n",
    "predictions = lm.predict(X_test)\n",
    "\n",
    "\n",
    "#R2.\n",
    "r2 = r2_score(y_test, predictions)\n",
    "#MSE.\n",
    "mse = mean_squared_error(y_test, predictions)\n",
    "#RMSE.\n",
    "rmse = math.sqrt(mse)\n",
    "#MAE.\n",
    "mae = mean_absolute_error(y_test, predictions)\n",
    "\n",
    "print('r2:',r2)\n",
    "print('mse:',mse)\n",
    "print('rmse:',rmse)\n",
    "print('mae:',mae)"
   ]
  },
  {
   "cell_type": "code",
   "execution_count": 140,
   "metadata": {},
   "outputs": [
    {
     "name": "stdout",
     "output_type": "stream",
     "text": [
      "      Gender\n",
      "0          0\n",
      "1          1\n",
      "2          0\n",
      "3          0\n",
      "4          1\n",
      "...      ...\n",
      "6835       1\n",
      "6836       0\n",
      "6837       1\n",
      "6838       0\n",
      "6839       1\n",
      "\n",
      "[6840 rows x 1 columns]\n"
     ]
    },
    {
     "data": {
      "text/plain": [
       "Gender\n",
       "0         3590\n",
       "1         3250\n",
       "dtype: int64"
      ]
     },
     "execution_count": 140,
     "metadata": {},
     "output_type": "execute_result"
    }
   ],
   "source": [
    "# Since the R2 is insignificant and the amount of errors extremely high, the model needs further adaptation\n",
    "# Now we will include the categorical columns within the model - they need to be encoded\n",
    "\n",
    "#For 'Gender' column we can use Label encoding because it was already cleaned down to two unique values\n",
    "\n",
    "#label encoding keeps just one column and makes it numerical\n",
    "from sklearn.preprocessing import LabelEncoder\n",
    "gender_encoded = LabelEncoder().fit(file_cat['Gender']).transform(file_cat['Gender']) \n",
    "gender_encoded = pd.DataFrame(gender_encoded, columns = ['Gender'])\n",
    "print(gender_encoded)\n",
    "gender_encoded.value_counts() # ordered value counts\n"
   ]
  },
  {
   "cell_type": "code",
   "execution_count": 101,
   "metadata": {},
   "outputs": [
    {
     "data": {
      "text/plain": [
       "array(['Nevada', 'Washington', 'Oregon', 'California', 'Arizona', 'Cali',\n",
       "       'AZ', 'WA'], dtype=object)"
      ]
     },
     "execution_count": 101,
     "metadata": {},
     "output_type": "execute_result"
    }
   ],
   "source": [
    "#Perform cleaning on State column\n",
    "file['State'].unique()"
   ]
  },
  {
   "cell_type": "code",
   "execution_count": 102,
   "metadata": {},
   "outputs": [
    {
     "data": {
      "text/plain": [
       "California    2250\n",
       "Oregon        1937\n",
       "Arizona       1217\n",
       "Nevada         665\n",
       "Washington     598\n",
       "Cali            96\n",
       "AZ              56\n",
       "WA              21\n",
       "Name: State, dtype: int64"
      ]
     },
     "execution_count": 102,
     "metadata": {},
     "output_type": "execute_result"
    }
   ],
   "source": [
    "file['State'].value_counts()"
   ]
  },
  {
   "cell_type": "code",
   "execution_count": 133,
   "metadata": {},
   "outputs": [
    {
     "name": "stderr",
     "output_type": "stream",
     "text": [
      "<ipython-input-133-787d6092aa40>:11: SettingWithCopyWarning: \n",
      "A value is trying to be set on a copy of a slice from a DataFrame.\n",
      "Try using .loc[row_indexer,col_indexer] = value instead\n",
      "\n",
      "See the caveats in the documentation: https://pandas.pydata.org/pandas-docs/stable/user_guide/indexing.html#returning-a-view-versus-a-copy\n",
      "  file_cat['State'] = list(map(clean2,file_cat['State']))\n"
     ]
    },
    {
     "data": {
      "text/plain": [
       "California    2346\n",
       "Oregon        1937\n",
       "Arizona       1273\n",
       "Nevada         665\n",
       "Washington     619\n",
       "Name: State, dtype: int64"
      ]
     },
     "execution_count": 133,
     "metadata": {},
     "output_type": "execute_result"
    }
   ],
   "source": [
    "def clean2(x):\n",
    "    if x in ['WA', 'Washington']:\n",
    "        return 'Washington'\n",
    "    elif x in ['AZ','Arizona']:\n",
    "        return 'Arizona'\n",
    "    elif x in ['Cali','California']:\n",
    "        return 'California'\n",
    "    else:\n",
    "        return x\n",
    "    \n",
    "file_cat['State'] = list(map(clean2,file_cat['State']))\n",
    "\n",
    "file_cat['State'].value_counts()"
   ]
  },
  {
   "cell_type": "code",
   "execution_count": 136,
   "metadata": {},
   "outputs": [
    {
     "name": "stdout",
     "output_type": "stream",
     "text": [
      "[array(['Arizona', 'California', 'Nevada', 'Oregon', 'Washington'],\n",
      "      dtype=object)]\n",
      "[[0. 0. 1. 0. 0.]\n",
      " [0. 0. 0. 0. 1.]\n",
      " [0. 0. 0. 1. 0.]\n",
      " ...\n",
      " [0. 1. 0. 0. 0.]\n",
      " [0. 1. 0. 0. 0.]\n",
      " [0. 1. 0. 0. 0.]]\n"
     ]
    },
    {
     "data": {
      "text/html": [
       "<div>\n",
       "<style scoped>\n",
       "    .dataframe tbody tr th:only-of-type {\n",
       "        vertical-align: middle;\n",
       "    }\n",
       "\n",
       "    .dataframe tbody tr th {\n",
       "        vertical-align: top;\n",
       "    }\n",
       "\n",
       "    .dataframe thead th {\n",
       "        text-align: right;\n",
       "    }\n",
       "</style>\n",
       "<table border=\"1\" class=\"dataframe\">\n",
       "  <thead>\n",
       "    <tr style=\"text-align: right;\">\n",
       "      <th></th>\n",
       "      <th>Arizona</th>\n",
       "      <th>California</th>\n",
       "      <th>Nevada</th>\n",
       "      <th>Oregon</th>\n",
       "      <th>Washington</th>\n",
       "    </tr>\n",
       "  </thead>\n",
       "  <tbody>\n",
       "    <tr>\n",
       "      <th>0</th>\n",
       "      <td>0.0</td>\n",
       "      <td>0.0</td>\n",
       "      <td>1.0</td>\n",
       "      <td>0.0</td>\n",
       "      <td>0.0</td>\n",
       "    </tr>\n",
       "    <tr>\n",
       "      <th>1</th>\n",
       "      <td>0.0</td>\n",
       "      <td>0.0</td>\n",
       "      <td>0.0</td>\n",
       "      <td>0.0</td>\n",
       "      <td>1.0</td>\n",
       "    </tr>\n",
       "    <tr>\n",
       "      <th>2</th>\n",
       "      <td>0.0</td>\n",
       "      <td>0.0</td>\n",
       "      <td>0.0</td>\n",
       "      <td>1.0</td>\n",
       "      <td>0.0</td>\n",
       "    </tr>\n",
       "    <tr>\n",
       "      <th>3</th>\n",
       "      <td>0.0</td>\n",
       "      <td>0.0</td>\n",
       "      <td>0.0</td>\n",
       "      <td>1.0</td>\n",
       "      <td>0.0</td>\n",
       "    </tr>\n",
       "    <tr>\n",
       "      <th>4</th>\n",
       "      <td>0.0</td>\n",
       "      <td>0.0</td>\n",
       "      <td>0.0</td>\n",
       "      <td>1.0</td>\n",
       "      <td>0.0</td>\n",
       "    </tr>\n",
       "  </tbody>\n",
       "</table>\n",
       "</div>"
      ],
      "text/plain": [
       "   Arizona  California  Nevada  Oregon  Washington\n",
       "0      0.0         0.0     1.0     0.0         0.0\n",
       "1      0.0         0.0     0.0     0.0         1.0\n",
       "2      0.0         0.0     0.0     1.0         0.0\n",
       "3      0.0         0.0     0.0     1.0         0.0\n",
       "4      0.0         0.0     0.0     1.0         0.0"
      ]
     },
     "execution_count": 136,
     "metadata": {},
     "output_type": "execute_result"
    }
   ],
   "source": [
    "# Perform One Hot Encoding on State column\n",
    "\n",
    "#one hot encoding is a way to turn categorical variables into multiple numerical columns\n",
    "from sklearn.preprocessing import OneHotEncoder\n",
    "state_encoded = OneHotEncoder().fit(file_cat[['State']])\n",
    "print(state_encoded.categories_)\n",
    "state_encoded = state_encoded.transform(file_cat[['State']]).toarray()\n",
    "print(state_encoded)\n",
    "state_encoded = pd.DataFrame(state_encoded, columns = ['Arizona', 'California', 'Nevada', 'Oregon', 'Washington'])\n",
    "state_encoded.head()"
   ]
  },
  {
   "cell_type": "code",
   "execution_count": 137,
   "metadata": {},
   "outputs": [
    {
     "data": {
      "text/html": [
       "<div>\n",
       "<style scoped>\n",
       "    .dataframe tbody tr th:only-of-type {\n",
       "        vertical-align: middle;\n",
       "    }\n",
       "\n",
       "    .dataframe tbody tr th {\n",
       "        vertical-align: top;\n",
       "    }\n",
       "\n",
       "    .dataframe thead th {\n",
       "        text-align: right;\n",
       "    }\n",
       "</style>\n",
       "<table border=\"1\" class=\"dataframe\">\n",
       "  <thead>\n",
       "    <tr style=\"text-align: right;\">\n",
       "      <th></th>\n",
       "      <th>Arizona</th>\n",
       "      <th>California</th>\n",
       "      <th>Nevada</th>\n",
       "      <th>Oregon</th>\n",
       "    </tr>\n",
       "  </thead>\n",
       "  <tbody>\n",
       "    <tr>\n",
       "      <th>0</th>\n",
       "      <td>0.0</td>\n",
       "      <td>0.0</td>\n",
       "      <td>1.0</td>\n",
       "      <td>0.0</td>\n",
       "    </tr>\n",
       "    <tr>\n",
       "      <th>1</th>\n",
       "      <td>0.0</td>\n",
       "      <td>0.0</td>\n",
       "      <td>0.0</td>\n",
       "      <td>0.0</td>\n",
       "    </tr>\n",
       "    <tr>\n",
       "      <th>2</th>\n",
       "      <td>0.0</td>\n",
       "      <td>0.0</td>\n",
       "      <td>0.0</td>\n",
       "      <td>1.0</td>\n",
       "    </tr>\n",
       "    <tr>\n",
       "      <th>3</th>\n",
       "      <td>0.0</td>\n",
       "      <td>0.0</td>\n",
       "      <td>0.0</td>\n",
       "      <td>1.0</td>\n",
       "    </tr>\n",
       "    <tr>\n",
       "      <th>4</th>\n",
       "      <td>0.0</td>\n",
       "      <td>0.0</td>\n",
       "      <td>0.0</td>\n",
       "      <td>1.0</td>\n",
       "    </tr>\n",
       "  </tbody>\n",
       "</table>\n",
       "</div>"
      ],
      "text/plain": [
       "   Arizona  California  Nevada  Oregon\n",
       "0      0.0         0.0     1.0     0.0\n",
       "1      0.0         0.0     0.0     0.0\n",
       "2      0.0         0.0     0.0     1.0\n",
       "3      0.0         0.0     0.0     1.0\n",
       "4      0.0         0.0     0.0     1.0"
      ]
     },
     "execution_count": 137,
     "metadata": {},
     "output_type": "execute_result"
    }
   ],
   "source": [
    "#because one of the variables can be deduced from the others, no point in keeping all these columns around\n",
    "state_encoded = state_encoded.drop(['Washington'],axis=1)\n",
    "state_encoded.head()"
   ]
  },
  {
   "cell_type": "code",
   "execution_count": 109,
   "metadata": {},
   "outputs": [
    {
     "data": {
      "text/plain": [
       "Personal Auto     5090\n",
       "Corporate Auto    1462\n",
       "Special Auto       288\n",
       "Name: Policy Type, dtype: int64"
      ]
     },
     "execution_count": 109,
     "metadata": {},
     "output_type": "execute_result"
    }
   ],
   "source": [
    "# Encode Policy Type\n",
    "file_cat['Policy Type'].value_counts()"
   ]
  },
  {
   "cell_type": "code",
   "execution_count": 117,
   "metadata": {},
   "outputs": [
    {
     "name": "stdout",
     "output_type": "stream",
     "text": [
      "[array(['Corporate Auto', 'Personal Auto', 'Special Auto'], dtype=object)]\n",
      "[[0. 1. 0.]\n",
      " [0. 1. 0.]\n",
      " [0. 1. 0.]\n",
      " ...\n",
      " [0. 1. 0.]\n",
      " [1. 0. 0.]\n",
      " [0. 1. 0.]]\n"
     ]
    },
    {
     "data": {
      "text/html": [
       "<div>\n",
       "<style scoped>\n",
       "    .dataframe tbody tr th:only-of-type {\n",
       "        vertical-align: middle;\n",
       "    }\n",
       "\n",
       "    .dataframe tbody tr th {\n",
       "        vertical-align: top;\n",
       "    }\n",
       "\n",
       "    .dataframe thead th {\n",
       "        text-align: right;\n",
       "    }\n",
       "</style>\n",
       "<table border=\"1\" class=\"dataframe\">\n",
       "  <thead>\n",
       "    <tr style=\"text-align: right;\">\n",
       "      <th></th>\n",
       "      <th>Corporate Auto</th>\n",
       "      <th>Personal Auto</th>\n",
       "      <th>Special Auto</th>\n",
       "    </tr>\n",
       "  </thead>\n",
       "  <tbody>\n",
       "    <tr>\n",
       "      <th>0</th>\n",
       "      <td>0.0</td>\n",
       "      <td>1.0</td>\n",
       "      <td>0.0</td>\n",
       "    </tr>\n",
       "    <tr>\n",
       "      <th>1</th>\n",
       "      <td>0.0</td>\n",
       "      <td>1.0</td>\n",
       "      <td>0.0</td>\n",
       "    </tr>\n",
       "    <tr>\n",
       "      <th>2</th>\n",
       "      <td>0.0</td>\n",
       "      <td>1.0</td>\n",
       "      <td>0.0</td>\n",
       "    </tr>\n",
       "    <tr>\n",
       "      <th>3</th>\n",
       "      <td>1.0</td>\n",
       "      <td>0.0</td>\n",
       "      <td>0.0</td>\n",
       "    </tr>\n",
       "    <tr>\n",
       "      <th>4</th>\n",
       "      <td>1.0</td>\n",
       "      <td>0.0</td>\n",
       "      <td>0.0</td>\n",
       "    </tr>\n",
       "  </tbody>\n",
       "</table>\n",
       "</div>"
      ],
      "text/plain": [
       "   Corporate Auto  Personal Auto  Special Auto\n",
       "0             0.0            1.0           0.0\n",
       "1             0.0            1.0           0.0\n",
       "2             0.0            1.0           0.0\n",
       "3             1.0            0.0           0.0\n",
       "4             1.0            0.0           0.0"
      ]
     },
     "execution_count": 117,
     "metadata": {},
     "output_type": "execute_result"
    }
   ],
   "source": [
    "pt_encoded = OneHotEncoder().fit(file_cat[['Policy Type']])\n",
    "print(pt_encoded.categories_)\n",
    "pt_encoded = pt_encoded.transform(file_cat[['Policy Type']]).toarray()\n",
    "print(pt_encoded)\n",
    "pt_encoded = pd.DataFrame(pt_encoded, columns = ['Corporate Auto', 'Personal Auto', 'Special Auto'])\n",
    "pt_encoded.head()"
   ]
  },
  {
   "cell_type": "code",
   "execution_count": 128,
   "metadata": {},
   "outputs": [
    {
     "data": {
      "text/html": [
       "<div>\n",
       "<style scoped>\n",
       "    .dataframe tbody tr th:only-of-type {\n",
       "        vertical-align: middle;\n",
       "    }\n",
       "\n",
       "    .dataframe tbody tr th {\n",
       "        vertical-align: top;\n",
       "    }\n",
       "\n",
       "    .dataframe thead th {\n",
       "        text-align: right;\n",
       "    }\n",
       "</style>\n",
       "<table border=\"1\" class=\"dataframe\">\n",
       "  <thead>\n",
       "    <tr style=\"text-align: right;\">\n",
       "      <th></th>\n",
       "      <th>Corporate Auto</th>\n",
       "      <th>Personal Auto</th>\n",
       "    </tr>\n",
       "  </thead>\n",
       "  <tbody>\n",
       "    <tr>\n",
       "      <th>0</th>\n",
       "      <td>0.0</td>\n",
       "      <td>1.0</td>\n",
       "    </tr>\n",
       "    <tr>\n",
       "      <th>1</th>\n",
       "      <td>0.0</td>\n",
       "      <td>1.0</td>\n",
       "    </tr>\n",
       "    <tr>\n",
       "      <th>2</th>\n",
       "      <td>0.0</td>\n",
       "      <td>1.0</td>\n",
       "    </tr>\n",
       "    <tr>\n",
       "      <th>3</th>\n",
       "      <td>1.0</td>\n",
       "      <td>0.0</td>\n",
       "    </tr>\n",
       "    <tr>\n",
       "      <th>4</th>\n",
       "      <td>1.0</td>\n",
       "      <td>0.0</td>\n",
       "    </tr>\n",
       "  </tbody>\n",
       "</table>\n",
       "</div>"
      ],
      "text/plain": [
       "   Corporate Auto  Personal Auto\n",
       "0             0.0            1.0\n",
       "1             0.0            1.0\n",
       "2             0.0            1.0\n",
       "3             1.0            0.0\n",
       "4             1.0            0.0"
      ]
     },
     "execution_count": 128,
     "metadata": {},
     "output_type": "execute_result"
    }
   ],
   "source": [
    "#because one of the variables can be deduced from the others, no point in keeping all these columns around\n",
    "pt_encoded = pt_encoded.drop(['Special Auto'],axis=1)\n",
    "pt_encoded.head()"
   ]
  },
  {
   "cell_type": "code",
   "execution_count": 110,
   "metadata": {},
   "outputs": [
    {
     "data": {
      "text/plain": [
       "Four-Door Car    3496\n",
       "Two-Door Car     1444\n",
       "SUV              1290\n",
       "Sports Car        354\n",
       "Luxury SUV        137\n",
       "Luxury Car        119\n",
       "Name: Vehicle Class, dtype: int64"
      ]
     },
     "execution_count": 110,
     "metadata": {},
     "output_type": "execute_result"
    }
   ],
   "source": [
    "# Encode Vehicle Class\n",
    "file_cat['Vehicle Class'].value_counts()"
   ]
  },
  {
   "cell_type": "code",
   "execution_count": 126,
   "metadata": {},
   "outputs": [
    {
     "name": "stdout",
     "output_type": "stream",
     "text": [
      "[array(['Four-Door Car', 'Luxury Car', 'Luxury SUV', 'SUV', 'Sports Car',\n",
      "       'Two-Door Car'], dtype=object)]\n",
      "[[0. 0. 0. 0. 0. 1.]\n",
      " [1. 0. 0. 0. 0. 0.]\n",
      " [0. 0. 0. 0. 0. 1.]\n",
      " ...\n",
      " [1. 0. 0. 0. 0. 0.]\n",
      " [1. 0. 0. 0. 0. 0.]\n",
      " [1. 0. 0. 0. 0. 0.]]\n"
     ]
    },
    {
     "data": {
      "text/html": [
       "<div>\n",
       "<style scoped>\n",
       "    .dataframe tbody tr th:only-of-type {\n",
       "        vertical-align: middle;\n",
       "    }\n",
       "\n",
       "    .dataframe tbody tr th {\n",
       "        vertical-align: top;\n",
       "    }\n",
       "\n",
       "    .dataframe thead th {\n",
       "        text-align: right;\n",
       "    }\n",
       "</style>\n",
       "<table border=\"1\" class=\"dataframe\">\n",
       "  <thead>\n",
       "    <tr style=\"text-align: right;\">\n",
       "      <th></th>\n",
       "      <th>Four-Door Car</th>\n",
       "      <th>Luxury Car</th>\n",
       "      <th>Luxury SUV</th>\n",
       "      <th>SUV</th>\n",
       "      <th>Sports Car</th>\n",
       "      <th>Two-Door Car</th>\n",
       "    </tr>\n",
       "  </thead>\n",
       "  <tbody>\n",
       "    <tr>\n",
       "      <th>0</th>\n",
       "      <td>0.0</td>\n",
       "      <td>0.0</td>\n",
       "      <td>0.0</td>\n",
       "      <td>0.0</td>\n",
       "      <td>0.0</td>\n",
       "      <td>1.0</td>\n",
       "    </tr>\n",
       "    <tr>\n",
       "      <th>1</th>\n",
       "      <td>1.0</td>\n",
       "      <td>0.0</td>\n",
       "      <td>0.0</td>\n",
       "      <td>0.0</td>\n",
       "      <td>0.0</td>\n",
       "      <td>0.0</td>\n",
       "    </tr>\n",
       "    <tr>\n",
       "      <th>2</th>\n",
       "      <td>0.0</td>\n",
       "      <td>0.0</td>\n",
       "      <td>0.0</td>\n",
       "      <td>0.0</td>\n",
       "      <td>0.0</td>\n",
       "      <td>1.0</td>\n",
       "    </tr>\n",
       "    <tr>\n",
       "      <th>3</th>\n",
       "      <td>1.0</td>\n",
       "      <td>0.0</td>\n",
       "      <td>0.0</td>\n",
       "      <td>0.0</td>\n",
       "      <td>0.0</td>\n",
       "      <td>0.0</td>\n",
       "    </tr>\n",
       "    <tr>\n",
       "      <th>4</th>\n",
       "      <td>1.0</td>\n",
       "      <td>0.0</td>\n",
       "      <td>0.0</td>\n",
       "      <td>0.0</td>\n",
       "      <td>0.0</td>\n",
       "      <td>0.0</td>\n",
       "    </tr>\n",
       "  </tbody>\n",
       "</table>\n",
       "</div>"
      ],
      "text/plain": [
       "   Four-Door Car  Luxury Car  Luxury SUV  SUV  Sports Car  Two-Door Car\n",
       "0            0.0         0.0         0.0  0.0         0.0           1.0\n",
       "1            1.0         0.0         0.0  0.0         0.0           0.0\n",
       "2            0.0         0.0         0.0  0.0         0.0           1.0\n",
       "3            1.0         0.0         0.0  0.0         0.0           0.0\n",
       "4            1.0         0.0         0.0  0.0         0.0           0.0"
      ]
     },
     "execution_count": 126,
     "metadata": {},
     "output_type": "execute_result"
    }
   ],
   "source": [
    "vc_encoded = OneHotEncoder().fit(file_cat[['Vehicle Class']])\n",
    "print(vc_encoded.categories_)\n",
    "vc_encoded = vc_encoded.transform(file_cat[['Vehicle Class']]).toarray()\n",
    "print(vc_encoded)\n",
    "vc_encoded = pd.DataFrame(vc_encoded, columns = ['Four-Door Car', 'Luxury Car', 'Luxury SUV', 'SUV', 'Sports Car',\n",
    "       'Two-Door Car'])\n",
    "vc_encoded.head()"
   ]
  },
  {
   "cell_type": "code",
   "execution_count": 127,
   "metadata": {},
   "outputs": [
    {
     "data": {
      "text/html": [
       "<div>\n",
       "<style scoped>\n",
       "    .dataframe tbody tr th:only-of-type {\n",
       "        vertical-align: middle;\n",
       "    }\n",
       "\n",
       "    .dataframe tbody tr th {\n",
       "        vertical-align: top;\n",
       "    }\n",
       "\n",
       "    .dataframe thead th {\n",
       "        text-align: right;\n",
       "    }\n",
       "</style>\n",
       "<table border=\"1\" class=\"dataframe\">\n",
       "  <thead>\n",
       "    <tr style=\"text-align: right;\">\n",
       "      <th></th>\n",
       "      <th>Four-Door Car</th>\n",
       "      <th>Luxury Car</th>\n",
       "      <th>Luxury SUV</th>\n",
       "      <th>SUV</th>\n",
       "      <th>Sports Car</th>\n",
       "    </tr>\n",
       "  </thead>\n",
       "  <tbody>\n",
       "    <tr>\n",
       "      <th>0</th>\n",
       "      <td>0.0</td>\n",
       "      <td>0.0</td>\n",
       "      <td>0.0</td>\n",
       "      <td>0.0</td>\n",
       "      <td>0.0</td>\n",
       "    </tr>\n",
       "    <tr>\n",
       "      <th>1</th>\n",
       "      <td>1.0</td>\n",
       "      <td>0.0</td>\n",
       "      <td>0.0</td>\n",
       "      <td>0.0</td>\n",
       "      <td>0.0</td>\n",
       "    </tr>\n",
       "    <tr>\n",
       "      <th>2</th>\n",
       "      <td>0.0</td>\n",
       "      <td>0.0</td>\n",
       "      <td>0.0</td>\n",
       "      <td>0.0</td>\n",
       "      <td>0.0</td>\n",
       "    </tr>\n",
       "    <tr>\n",
       "      <th>3</th>\n",
       "      <td>1.0</td>\n",
       "      <td>0.0</td>\n",
       "      <td>0.0</td>\n",
       "      <td>0.0</td>\n",
       "      <td>0.0</td>\n",
       "    </tr>\n",
       "    <tr>\n",
       "      <th>4</th>\n",
       "      <td>1.0</td>\n",
       "      <td>0.0</td>\n",
       "      <td>0.0</td>\n",
       "      <td>0.0</td>\n",
       "      <td>0.0</td>\n",
       "    </tr>\n",
       "  </tbody>\n",
       "</table>\n",
       "</div>"
      ],
      "text/plain": [
       "   Four-Door Car  Luxury Car  Luxury SUV  SUV  Sports Car\n",
       "0            0.0         0.0         0.0  0.0         0.0\n",
       "1            1.0         0.0         0.0  0.0         0.0\n",
       "2            0.0         0.0         0.0  0.0         0.0\n",
       "3            1.0         0.0         0.0  0.0         0.0\n",
       "4            1.0         0.0         0.0  0.0         0.0"
      ]
     },
     "execution_count": 127,
     "metadata": {},
     "output_type": "execute_result"
    }
   ],
   "source": [
    "#because one of the variables can be deduced from the others, no point in keeping all these columns around\n",
    "vc_encoded = vc_encoded.drop(['Two-Door Car'],axis=1)\n",
    "vc_encoded.head()"
   ]
  },
  {
   "cell_type": "code",
   "execution_count": 158,
   "metadata": {
    "scrolled": true
   },
   "outputs": [
    {
     "data": {
      "text/html": [
       "<div>\n",
       "<style scoped>\n",
       "    .dataframe tbody tr th:only-of-type {\n",
       "        vertical-align: middle;\n",
       "    }\n",
       "\n",
       "    .dataframe tbody tr th {\n",
       "        vertical-align: top;\n",
       "    }\n",
       "\n",
       "    .dataframe thead th {\n",
       "        text-align: right;\n",
       "    }\n",
       "</style>\n",
       "<table border=\"1\" class=\"dataframe\">\n",
       "  <thead>\n",
       "    <tr style=\"text-align: right;\">\n",
       "      <th></th>\n",
       "      <th>Customer Lifetime Value</th>\n",
       "      <th>Income</th>\n",
       "      <th>Monthly Premium Auto</th>\n",
       "      <th>Total Claim Amount</th>\n",
       "      <th>Arizona</th>\n",
       "      <th>California</th>\n",
       "      <th>Nevada</th>\n",
       "      <th>Oregon</th>\n",
       "      <th>Gender</th>\n",
       "      <th>Corporate Auto</th>\n",
       "      <th>Personal Auto</th>\n",
       "      <th>Four-Door Car</th>\n",
       "      <th>Luxury Car</th>\n",
       "      <th>Luxury SUV</th>\n",
       "      <th>SUV</th>\n",
       "      <th>Sports Car</th>\n",
       "    </tr>\n",
       "  </thead>\n",
       "  <tbody>\n",
       "    <tr>\n",
       "      <th>0</th>\n",
       "      <td>81.47</td>\n",
       "      <td>48767.0</td>\n",
       "      <td>108.0</td>\n",
       "      <td>566.47</td>\n",
       "      <td>0.0</td>\n",
       "      <td>0.0</td>\n",
       "      <td>1.0</td>\n",
       "      <td>0.0</td>\n",
       "      <td>0</td>\n",
       "      <td>0.0</td>\n",
       "      <td>1.0</td>\n",
       "      <td>0.0</td>\n",
       "      <td>0.0</td>\n",
       "      <td>0.0</td>\n",
       "      <td>0.0</td>\n",
       "      <td>0.0</td>\n",
       "    </tr>\n",
       "    <tr>\n",
       "      <th>1</th>\n",
       "      <td>81.47</td>\n",
       "      <td>36357.0</td>\n",
       "      <td>68.0</td>\n",
       "      <td>17.27</td>\n",
       "      <td>0.0</td>\n",
       "      <td>0.0</td>\n",
       "      <td>0.0</td>\n",
       "      <td>0.0</td>\n",
       "      <td>1</td>\n",
       "      <td>0.0</td>\n",
       "      <td>1.0</td>\n",
       "      <td>1.0</td>\n",
       "      <td>0.0</td>\n",
       "      <td>0.0</td>\n",
       "      <td>0.0</td>\n",
       "      <td>0.0</td>\n",
       "    </tr>\n",
       "    <tr>\n",
       "      <th>2</th>\n",
       "      <td>81.47</td>\n",
       "      <td>62902.0</td>\n",
       "      <td>69.0</td>\n",
       "      <td>159.38</td>\n",
       "      <td>0.0</td>\n",
       "      <td>0.0</td>\n",
       "      <td>0.0</td>\n",
       "      <td>1.0</td>\n",
       "      <td>0</td>\n",
       "      <td>0.0</td>\n",
       "      <td>1.0</td>\n",
       "      <td>0.0</td>\n",
       "      <td>0.0</td>\n",
       "      <td>0.0</td>\n",
       "      <td>0.0</td>\n",
       "      <td>0.0</td>\n",
       "    </tr>\n",
       "    <tr>\n",
       "      <th>3</th>\n",
       "      <td>81.47</td>\n",
       "      <td>55350.0</td>\n",
       "      <td>67.0</td>\n",
       "      <td>321.60</td>\n",
       "      <td>0.0</td>\n",
       "      <td>0.0</td>\n",
       "      <td>0.0</td>\n",
       "      <td>1.0</td>\n",
       "      <td>0</td>\n",
       "      <td>1.0</td>\n",
       "      <td>0.0</td>\n",
       "      <td>1.0</td>\n",
       "      <td>0.0</td>\n",
       "      <td>0.0</td>\n",
       "      <td>0.0</td>\n",
       "      <td>0.0</td>\n",
       "    </tr>\n",
       "    <tr>\n",
       "      <th>4</th>\n",
       "      <td>81.47</td>\n",
       "      <td>14072.0</td>\n",
       "      <td>71.0</td>\n",
       "      <td>511.20</td>\n",
       "      <td>0.0</td>\n",
       "      <td>0.0</td>\n",
       "      <td>0.0</td>\n",
       "      <td>1.0</td>\n",
       "      <td>1</td>\n",
       "      <td>1.0</td>\n",
       "      <td>0.0</td>\n",
       "      <td>1.0</td>\n",
       "      <td>0.0</td>\n",
       "      <td>0.0</td>\n",
       "      <td>0.0</td>\n",
       "      <td>0.0</td>\n",
       "    </tr>\n",
       "  </tbody>\n",
       "</table>\n",
       "</div>"
      ],
      "text/plain": [
       "   Customer Lifetime Value   Income  Monthly Premium Auto  Total Claim Amount  \\\n",
       "0                    81.47  48767.0                 108.0              566.47   \n",
       "1                    81.47  36357.0                  68.0               17.27   \n",
       "2                    81.47  62902.0                  69.0              159.38   \n",
       "3                    81.47  55350.0                  67.0              321.60   \n",
       "4                    81.47  14072.0                  71.0              511.20   \n",
       "\n",
       "   Arizona  California  Nevada  Oregon  Gender  Corporate Auto  Personal Auto  \\\n",
       "0      0.0         0.0     1.0     0.0       0             0.0            1.0   \n",
       "1      0.0         0.0     0.0     0.0       1             0.0            1.0   \n",
       "2      0.0         0.0     0.0     1.0       0             0.0            1.0   \n",
       "3      0.0         0.0     0.0     1.0       0             1.0            0.0   \n",
       "4      0.0         0.0     0.0     1.0       1             1.0            0.0   \n",
       "\n",
       "   Four-Door Car  Luxury Car  Luxury SUV  SUV  Sports Car  \n",
       "0            0.0         0.0         0.0  0.0         0.0  \n",
       "1            1.0         0.0         0.0  0.0         0.0  \n",
       "2            0.0         0.0         0.0  0.0         0.0  \n",
       "3            1.0         0.0         0.0  0.0         0.0  \n",
       "4            1.0         0.0         0.0  0.0         0.0  "
      ]
     },
     "execution_count": 158,
     "metadata": {},
     "output_type": "execute_result"
    }
   ],
   "source": [
    "# Merge back together the numerical and the encoded categorical columns\n",
    "\n",
    "file = pd.concat([file_num, state_encoded, gender_encoded, pt_encoded, vc_encoded], axis=1)\n",
    "file.head()"
   ]
  },
  {
   "cell_type": "code",
   "execution_count": 142,
   "metadata": {},
   "outputs": [
    {
     "data": {
      "text/html": [
       "<div>\n",
       "<style scoped>\n",
       "    .dataframe tbody tr th:only-of-type {\n",
       "        vertical-align: middle;\n",
       "    }\n",
       "\n",
       "    .dataframe tbody tr th {\n",
       "        vertical-align: top;\n",
       "    }\n",
       "\n",
       "    .dataframe thead th {\n",
       "        text-align: right;\n",
       "    }\n",
       "</style>\n",
       "<table border=\"1\" class=\"dataframe\">\n",
       "  <thead>\n",
       "    <tr style=\"text-align: right;\">\n",
       "      <th></th>\n",
       "      <th>Customer Lifetime Value</th>\n",
       "      <th>Income</th>\n",
       "      <th>Monthly Premium Auto</th>\n",
       "      <th>Arizona</th>\n",
       "      <th>California</th>\n",
       "      <th>Nevada</th>\n",
       "      <th>Oregon</th>\n",
       "      <th>Gender</th>\n",
       "      <th>Corporate Auto</th>\n",
       "      <th>Personal Auto</th>\n",
       "      <th>Four-Door Car</th>\n",
       "      <th>Luxury Car</th>\n",
       "      <th>Luxury SUV</th>\n",
       "      <th>SUV</th>\n",
       "      <th>Sports Car</th>\n",
       "    </tr>\n",
       "  </thead>\n",
       "  <tbody>\n",
       "    <tr>\n",
       "      <th>128</th>\n",
       "      <td>81.47</td>\n",
       "      <td>70699.0</td>\n",
       "      <td>82.0</td>\n",
       "      <td>0.0</td>\n",
       "      <td>0.0</td>\n",
       "      <td>0.0</td>\n",
       "      <td>1.0</td>\n",
       "      <td>0</td>\n",
       "      <td>0.0</td>\n",
       "      <td>1.0</td>\n",
       "      <td>1.0</td>\n",
       "      <td>0.0</td>\n",
       "      <td>0.0</td>\n",
       "      <td>0.0</td>\n",
       "      <td>0.0</td>\n",
       "    </tr>\n",
       "    <tr>\n",
       "      <th>5570</th>\n",
       "      <td>134.67</td>\n",
       "      <td>11432.0</td>\n",
       "      <td>119.0</td>\n",
       "      <td>0.0</td>\n",
       "      <td>0.0</td>\n",
       "      <td>1.0</td>\n",
       "      <td>0.0</td>\n",
       "      <td>0</td>\n",
       "      <td>0.0</td>\n",
       "      <td>0.0</td>\n",
       "      <td>0.0</td>\n",
       "      <td>0.0</td>\n",
       "      <td>0.0</td>\n",
       "      <td>1.0</td>\n",
       "      <td>0.0</td>\n",
       "    </tr>\n",
       "    <tr>\n",
       "      <th>662</th>\n",
       "      <td>81.47</td>\n",
       "      <td>89057.0</td>\n",
       "      <td>98.0</td>\n",
       "      <td>0.0</td>\n",
       "      <td>0.0</td>\n",
       "      <td>0.0</td>\n",
       "      <td>0.0</td>\n",
       "      <td>1</td>\n",
       "      <td>1.0</td>\n",
       "      <td>0.0</td>\n",
       "      <td>0.0</td>\n",
       "      <td>0.0</td>\n",
       "      <td>0.0</td>\n",
       "      <td>0.0</td>\n",
       "      <td>0.0</td>\n",
       "    </tr>\n",
       "    <tr>\n",
       "      <th>2047</th>\n",
       "      <td>53.32</td>\n",
       "      <td>68931.0</td>\n",
       "      <td>66.0</td>\n",
       "      <td>1.0</td>\n",
       "      <td>0.0</td>\n",
       "      <td>0.0</td>\n",
       "      <td>0.0</td>\n",
       "      <td>0</td>\n",
       "      <td>0.0</td>\n",
       "      <td>1.0</td>\n",
       "      <td>1.0</td>\n",
       "      <td>0.0</td>\n",
       "      <td>0.0</td>\n",
       "      <td>0.0</td>\n",
       "      <td>0.0</td>\n",
       "    </tr>\n",
       "    <tr>\n",
       "      <th>2175</th>\n",
       "      <td>83.07</td>\n",
       "      <td>89834.0</td>\n",
       "      <td>105.0</td>\n",
       "      <td>0.0</td>\n",
       "      <td>0.0</td>\n",
       "      <td>1.0</td>\n",
       "      <td>0.0</td>\n",
       "      <td>1</td>\n",
       "      <td>0.0</td>\n",
       "      <td>1.0</td>\n",
       "      <td>0.0</td>\n",
       "      <td>0.0</td>\n",
       "      <td>0.0</td>\n",
       "      <td>1.0</td>\n",
       "      <td>0.0</td>\n",
       "    </tr>\n",
       "  </tbody>\n",
       "</table>\n",
       "</div>"
      ],
      "text/plain": [
       "      Customer Lifetime Value   Income  Monthly Premium Auto  Arizona  \\\n",
       "128                     81.47  70699.0                  82.0      0.0   \n",
       "5570                   134.67  11432.0                 119.0      0.0   \n",
       "662                     81.47  89057.0                  98.0      0.0   \n",
       "2047                    53.32  68931.0                  66.0      1.0   \n",
       "2175                    83.07  89834.0                 105.0      0.0   \n",
       "\n",
       "      California  Nevada  Oregon  Gender  Corporate Auto  Personal Auto  \\\n",
       "128          0.0     0.0     1.0       0             0.0            1.0   \n",
       "5570         0.0     1.0     0.0       0             0.0            0.0   \n",
       "662          0.0     0.0     0.0       1             1.0            0.0   \n",
       "2047         0.0     0.0     0.0       0             0.0            1.0   \n",
       "2175         0.0     1.0     0.0       1             0.0            1.0   \n",
       "\n",
       "      Four-Door Car  Luxury Car  Luxury SUV  SUV  Sports Car  \n",
       "128             1.0         0.0         0.0  0.0         0.0  \n",
       "5570            0.0         0.0         0.0  1.0         0.0  \n",
       "662             0.0         0.0         0.0  0.0         0.0  \n",
       "2047            1.0         0.0         0.0  0.0         0.0  \n",
       "2175            0.0         0.0         0.0  1.0         0.0  "
      ]
     },
     "execution_count": 142,
     "metadata": {},
     "output_type": "execute_result"
    }
   ],
   "source": [
    "#Splitting into train set and test set again (now including categorical values)\n",
    "\n",
    "\n",
    "Y = file['Total Claim Amount']\n",
    "X = file.drop(['Total Claim Amount'], axis=1)\n",
    "\n",
    "X_train, X_test, y_train, y_test = train_test_split(X, y, test_size=0.2, random_state=100)\n",
    "\n",
    "X_train.head()"
   ]
  },
  {
   "cell_type": "code",
   "execution_count": 143,
   "metadata": {},
   "outputs": [],
   "source": [
    "# Apply lR model to the test sample\n",
    "from sklearn import linear_model\n",
    "lm = linear_model.LinearRegression()\n",
    "model = lm.fit(X_train,y_train)"
   ]
  },
  {
   "cell_type": "code",
   "execution_count": 144,
   "metadata": {},
   "outputs": [
    {
     "data": {
      "text/plain": [
       "array([251.00810019, 199.38789646, 322.58581812, ..., 587.79589337,\n",
       "       268.75442057, 345.84801618])"
      ]
     },
     "execution_count": 144,
     "metadata": {},
     "output_type": "execute_result"
    }
   ],
   "source": [
    "lm.predict(X_test)"
   ]
  },
  {
   "cell_type": "code",
   "execution_count": 145,
   "metadata": {},
   "outputs": [
    {
     "name": "stdout",
     "output_type": "stream",
     "text": [
      "r2: 0.36921417193707895\n",
      "mse: 41659.09294093393\n",
      "rmse: 204.1055926253221\n",
      "mae: 148.3397653472999\n"
     ]
    }
   ],
   "source": [
    "# Apply prediction metrics to see the accuracy of the model\n",
    "\n",
    "\n",
    "predictions = lm.predict(X_test)\n",
    "\n",
    "\n",
    "#R2.\n",
    "r2 = r2_score(y_test, predictions)\n",
    "#MSE.\n",
    "mse = mean_squared_error(y_test, predictions)\n",
    "#RMSE.\n",
    "rmse = math.sqrt(mse)\n",
    "#MAE.\n",
    "mae = mean_absolute_error(y_test, predictions)\n",
    "\n",
    "print('r2:',r2)\n",
    "print('mse:',mse)\n",
    "print('rmse:',rmse)\n",
    "print('mae:',mae)"
   ]
  },
  {
   "cell_type": "code",
   "execution_count": null,
   "metadata": {},
   "outputs": [],
   "source": [
    "# The model has improved but the results are still insignificant, next advisable steps would be to normalise and standardise\n",
    "# the data."
   ]
  },
  {
   "cell_type": "code",
   "execution_count": 147,
   "metadata": {},
   "outputs": [
    {
     "data": {
      "image/png": "[encoded data removed]",
      "text/plain": [
       "<Figure size 360x360 with 1 Axes>"
      ]
     },
     "metadata": {
      "needs_background": "light"
     },
     "output_type": "display_data"
    }
   ],
   "source": [
    "# Removing Outliers  (in column Customer Lifetime Value)\n",
    "iqr = np.percentile(file['Customer Lifetime Value'],75) - np.percentile(file['Customer Lifetime Value'],25)\n",
    "upper_limit = np.percentile(file['Customer Lifetime Value'],75) + 1.5*iqr\n",
    "lower_limit = np.percentile(file['Customer Lifetime Value'],25) - 1.5*iqr\n",
    "data = file[(file['Customer Lifetime Value']>lower_limit) & (file['Customer Lifetime Value']<upper_limit)]\n",
    "sns.displot(file['Customer Lifetime Value'])\n",
    "plt.show()\n",
    "\n",
    "# The spike corresponds to all NaN values that were replaced with mean   *** Not acted upon because outliers still show in describe"
   ]
  },
  {
   "cell_type": "code",
   "execution_count": 148,
   "metadata": {},
   "outputs": [
    {
     "data": {
      "text/html": [
       "<div>\n",
       "<style scoped>\n",
       "    .dataframe tbody tr th:only-of-type {\n",
       "        vertical-align: middle;\n",
       "    }\n",
       "\n",
       "    .dataframe tbody tr th {\n",
       "        vertical-align: top;\n",
       "    }\n",
       "\n",
       "    .dataframe thead th {\n",
       "        text-align: right;\n",
       "    }\n",
       "</style>\n",
       "<table border=\"1\" class=\"dataframe\">\n",
       "  <thead>\n",
       "    <tr style=\"text-align: right;\">\n",
       "      <th></th>\n",
       "      <th>count</th>\n",
       "      <th>mean</th>\n",
       "      <th>std</th>\n",
       "      <th>min</th>\n",
       "      <th>25%</th>\n",
       "      <th>50%</th>\n",
       "      <th>75%</th>\n",
       "      <th>max</th>\n",
       "    </tr>\n",
       "  </thead>\n",
       "  <tbody>\n",
       "    <tr>\n",
       "      <th>Customer Lifetime Value</th>\n",
       "      <td>6840.0</td>\n",
       "      <td>81.472968</td>\n",
       "      <td>61.717259</td>\n",
       "      <td>21.2</td>\n",
       "      <td>47.90</td>\n",
       "      <td>79.315</td>\n",
       "      <td>81.8425</td>\n",
       "      <td>833.25</td>\n",
       "    </tr>\n",
       "    <tr>\n",
       "      <th>Income</th>\n",
       "      <td>6840.0</td>\n",
       "      <td>50510.548684</td>\n",
       "      <td>24289.646795</td>\n",
       "      <td>10037.0</td>\n",
       "      <td>28499.50</td>\n",
       "      <td>48111.000</td>\n",
       "      <td>70263.0000</td>\n",
       "      <td>99981.00</td>\n",
       "    </tr>\n",
       "    <tr>\n",
       "      <th>Monthly Premium Auto</th>\n",
       "      <td>6840.0</td>\n",
       "      <td>114.326901</td>\n",
       "      <td>660.324241</td>\n",
       "      <td>61.0</td>\n",
       "      <td>68.00</td>\n",
       "      <td>82.000</td>\n",
       "      <td>109.0000</td>\n",
       "      <td>35354.00</td>\n",
       "    </tr>\n",
       "    <tr>\n",
       "      <th>Total Claim Amount</th>\n",
       "      <td>6840.0</td>\n",
       "      <td>374.577423</td>\n",
       "      <td>251.423721</td>\n",
       "      <td>0.1</td>\n",
       "      <td>207.75</td>\n",
       "      <td>340.800</td>\n",
       "      <td>494.4000</td>\n",
       "      <td>2893.24</td>\n",
       "    </tr>\n",
       "    <tr>\n",
       "      <th>Arizona</th>\n",
       "      <td>6840.0</td>\n",
       "      <td>0.186111</td>\n",
       "      <td>0.389225</td>\n",
       "      <td>0.0</td>\n",
       "      <td>0.00</td>\n",
       "      <td>0.000</td>\n",
       "      <td>0.0000</td>\n",
       "      <td>1.00</td>\n",
       "    </tr>\n",
       "    <tr>\n",
       "      <th>California</th>\n",
       "      <td>6840.0</td>\n",
       "      <td>0.342982</td>\n",
       "      <td>0.474740</td>\n",
       "      <td>0.0</td>\n",
       "      <td>0.00</td>\n",
       "      <td>0.000</td>\n",
       "      <td>1.0000</td>\n",
       "      <td>1.00</td>\n",
       "    </tr>\n",
       "    <tr>\n",
       "      <th>Nevada</th>\n",
       "      <td>6840.0</td>\n",
       "      <td>0.097222</td>\n",
       "      <td>0.296282</td>\n",
       "      <td>0.0</td>\n",
       "      <td>0.00</td>\n",
       "      <td>0.000</td>\n",
       "      <td>0.0000</td>\n",
       "      <td>1.00</td>\n",
       "    </tr>\n",
       "    <tr>\n",
       "      <th>Oregon</th>\n",
       "      <td>6840.0</td>\n",
       "      <td>0.283187</td>\n",
       "      <td>0.450579</td>\n",
       "      <td>0.0</td>\n",
       "      <td>0.00</td>\n",
       "      <td>0.000</td>\n",
       "      <td>1.0000</td>\n",
       "      <td>1.00</td>\n",
       "    </tr>\n",
       "    <tr>\n",
       "      <th>Gender</th>\n",
       "      <td>6840.0</td>\n",
       "      <td>0.475146</td>\n",
       "      <td>0.499418</td>\n",
       "      <td>0.0</td>\n",
       "      <td>0.00</td>\n",
       "      <td>0.000</td>\n",
       "      <td>1.0000</td>\n",
       "      <td>1.00</td>\n",
       "    </tr>\n",
       "    <tr>\n",
       "      <th>Corporate Auto</th>\n",
       "      <td>6840.0</td>\n",
       "      <td>0.213743</td>\n",
       "      <td>0.409977</td>\n",
       "      <td>0.0</td>\n",
       "      <td>0.00</td>\n",
       "      <td>0.000</td>\n",
       "      <td>0.0000</td>\n",
       "      <td>1.00</td>\n",
       "    </tr>\n",
       "    <tr>\n",
       "      <th>Personal Auto</th>\n",
       "      <td>6840.0</td>\n",
       "      <td>0.744152</td>\n",
       "      <td>0.436369</td>\n",
       "      <td>0.0</td>\n",
       "      <td>0.00</td>\n",
       "      <td>1.000</td>\n",
       "      <td>1.0000</td>\n",
       "      <td>1.00</td>\n",
       "    </tr>\n",
       "    <tr>\n",
       "      <th>Four-Door Car</th>\n",
       "      <td>6840.0</td>\n",
       "      <td>0.511111</td>\n",
       "      <td>0.499913</td>\n",
       "      <td>0.0</td>\n",
       "      <td>0.00</td>\n",
       "      <td>1.000</td>\n",
       "      <td>1.0000</td>\n",
       "      <td>1.00</td>\n",
       "    </tr>\n",
       "    <tr>\n",
       "      <th>Luxury Car</th>\n",
       "      <td>6840.0</td>\n",
       "      <td>0.017398</td>\n",
       "      <td>0.130757</td>\n",
       "      <td>0.0</td>\n",
       "      <td>0.00</td>\n",
       "      <td>0.000</td>\n",
       "      <td>0.0000</td>\n",
       "      <td>1.00</td>\n",
       "    </tr>\n",
       "    <tr>\n",
       "      <th>Luxury SUV</th>\n",
       "      <td>6840.0</td>\n",
       "      <td>0.020029</td>\n",
       "      <td>0.140110</td>\n",
       "      <td>0.0</td>\n",
       "      <td>0.00</td>\n",
       "      <td>0.000</td>\n",
       "      <td>0.0000</td>\n",
       "      <td>1.00</td>\n",
       "    </tr>\n",
       "    <tr>\n",
       "      <th>SUV</th>\n",
       "      <td>6840.0</td>\n",
       "      <td>0.188596</td>\n",
       "      <td>0.391216</td>\n",
       "      <td>0.0</td>\n",
       "      <td>0.00</td>\n",
       "      <td>0.000</td>\n",
       "      <td>0.0000</td>\n",
       "      <td>1.00</td>\n",
       "    </tr>\n",
       "    <tr>\n",
       "      <th>Sports Car</th>\n",
       "      <td>6840.0</td>\n",
       "      <td>0.051754</td>\n",
       "      <td>0.221547</td>\n",
       "      <td>0.0</td>\n",
       "      <td>0.00</td>\n",
       "      <td>0.000</td>\n",
       "      <td>0.0000</td>\n",
       "      <td>1.00</td>\n",
       "    </tr>\n",
       "  </tbody>\n",
       "</table>\n",
       "</div>"
      ],
      "text/plain": [
       "                          count          mean           std      min  \\\n",
       "Customer Lifetime Value  6840.0     81.472968     61.717259     21.2   \n",
       "Income                   6840.0  50510.548684  24289.646795  10037.0   \n",
       "Monthly Premium Auto     6840.0    114.326901    660.324241     61.0   \n",
       "Total Claim Amount       6840.0    374.577423    251.423721      0.1   \n",
       "Arizona                  6840.0      0.186111      0.389225      0.0   \n",
       "California               6840.0      0.342982      0.474740      0.0   \n",
       "Nevada                   6840.0      0.097222      0.296282      0.0   \n",
       "Oregon                   6840.0      0.283187      0.450579      0.0   \n",
       "Gender                   6840.0      0.475146      0.499418      0.0   \n",
       "Corporate Auto           6840.0      0.213743      0.409977      0.0   \n",
       "Personal Auto            6840.0      0.744152      0.436369      0.0   \n",
       "Four-Door Car            6840.0      0.511111      0.499913      0.0   \n",
       "Luxury Car               6840.0      0.017398      0.130757      0.0   \n",
       "Luxury SUV               6840.0      0.020029      0.140110      0.0   \n",
       "SUV                      6840.0      0.188596      0.391216      0.0   \n",
       "Sports Car               6840.0      0.051754      0.221547      0.0   \n",
       "\n",
       "                              25%        50%         75%       max  \n",
       "Customer Lifetime Value     47.90     79.315     81.8425    833.25  \n",
       "Income                   28499.50  48111.000  70263.0000  99981.00  \n",
       "Monthly Premium Auto        68.00     82.000    109.0000  35354.00  \n",
       "Total Claim Amount         207.75    340.800    494.4000   2893.24  \n",
       "Arizona                      0.00      0.000      0.0000      1.00  \n",
       "California                   0.00      0.000      1.0000      1.00  \n",
       "Nevada                       0.00      0.000      0.0000      1.00  \n",
       "Oregon                       0.00      0.000      1.0000      1.00  \n",
       "Gender                       0.00      0.000      1.0000      1.00  \n",
       "Corporate Auto               0.00      0.000      0.0000      1.00  \n",
       "Personal Auto                0.00      1.000      1.0000      1.00  \n",
       "Four-Door Car                0.00      1.000      1.0000      1.00  \n",
       "Luxury Car                   0.00      0.000      0.0000      1.00  \n",
       "Luxury SUV                   0.00      0.000      0.0000      1.00  \n",
       "SUV                          0.00      0.000      0.0000      1.00  \n",
       "Sports Car                   0.00      0.000      0.0000      1.00  "
      ]
     },
     "execution_count": 148,
     "metadata": {},
     "output_type": "execute_result"
    }
   ],
   "source": [
    "file.describe().T"
   ]
  },
  {
   "cell_type": "code",
   "execution_count": 171,
   "metadata": {},
   "outputs": [
    {
     "name": "stdout",
     "output_type": "stream",
     "text": [
      "Index(['Customer Lifetime Value', 'Income', 'Monthly Premium Auto',\n",
      "       'Total Claim Amount', 'Arizona', 'California', 'Nevada', 'Oregon',\n",
      "       'Gender', 'Corporate Auto', 'Personal Auto', 'Four-Door Car',\n",
      "       'Luxury Car', 'Luxury SUV', 'SUV', 'Sports Car'],\n",
      "      dtype='object')\n"
     ]
    }
   ],
   "source": [
    "print(file.columns)"
   ]
  },
  {
   "cell_type": "code",
   "execution_count": 161,
   "metadata": {},
   "outputs": [
    {
     "name": "stdout",
     "output_type": "stream",
     "text": [
      "(6840, 16)\n"
     ]
    },
    {
     "data": {
      "text/html": [
       "<div>\n",
       "<style scoped>\n",
       "    .dataframe tbody tr th:only-of-type {\n",
       "        vertical-align: middle;\n",
       "    }\n",
       "\n",
       "    .dataframe tbody tr th {\n",
       "        vertical-align: top;\n",
       "    }\n",
       "\n",
       "    .dataframe thead th {\n",
       "        text-align: right;\n",
       "    }\n",
       "</style>\n",
       "<table border=\"1\" class=\"dataframe\">\n",
       "  <thead>\n",
       "    <tr style=\"text-align: right;\">\n",
       "      <th></th>\n",
       "      <th>Customer Lifetime Value</th>\n",
       "      <th>Income</th>\n",
       "      <th>Monthly Premium Auto</th>\n",
       "      <th>Total Claim Amount</th>\n",
       "      <th>Arizona</th>\n",
       "      <th>California</th>\n",
       "      <th>Nevada</th>\n",
       "      <th>Oregon</th>\n",
       "      <th>Gender</th>\n",
       "      <th>Corporate Auto</th>\n",
       "      <th>Personal Auto</th>\n",
       "      <th>Four-Door Car</th>\n",
       "      <th>Luxury Car</th>\n",
       "      <th>Luxury SUV</th>\n",
       "      <th>SUV</th>\n",
       "      <th>Sports Car</th>\n",
       "    </tr>\n",
       "  </thead>\n",
       "  <tbody>\n",
       "    <tr>\n",
       "      <th>0</th>\n",
       "      <td>0.07422</td>\n",
       "      <td>0.430601</td>\n",
       "      <td>0.001332</td>\n",
       "      <td>0.195763</td>\n",
       "      <td>0.0</td>\n",
       "      <td>0.0</td>\n",
       "      <td>1.0</td>\n",
       "      <td>0.0</td>\n",
       "      <td>0.0</td>\n",
       "      <td>0.0</td>\n",
       "      <td>1.0</td>\n",
       "      <td>0.0</td>\n",
       "      <td>0.0</td>\n",
       "      <td>0.0</td>\n",
       "      <td>0.0</td>\n",
       "      <td>0.0</td>\n",
       "    </tr>\n",
       "    <tr>\n",
       "      <th>1</th>\n",
       "      <td>0.07422</td>\n",
       "      <td>0.292627</td>\n",
       "      <td>0.000198</td>\n",
       "      <td>0.005935</td>\n",
       "      <td>0.0</td>\n",
       "      <td>0.0</td>\n",
       "      <td>0.0</td>\n",
       "      <td>0.0</td>\n",
       "      <td>1.0</td>\n",
       "      <td>0.0</td>\n",
       "      <td>1.0</td>\n",
       "      <td>1.0</td>\n",
       "      <td>0.0</td>\n",
       "      <td>0.0</td>\n",
       "      <td>0.0</td>\n",
       "      <td>0.0</td>\n",
       "    </tr>\n",
       "    <tr>\n",
       "      <th>2</th>\n",
       "      <td>0.07422</td>\n",
       "      <td>0.587755</td>\n",
       "      <td>0.000227</td>\n",
       "      <td>0.055054</td>\n",
       "      <td>0.0</td>\n",
       "      <td>0.0</td>\n",
       "      <td>0.0</td>\n",
       "      <td>1.0</td>\n",
       "      <td>0.0</td>\n",
       "      <td>0.0</td>\n",
       "      <td>1.0</td>\n",
       "      <td>0.0</td>\n",
       "      <td>0.0</td>\n",
       "      <td>0.0</td>\n",
       "      <td>0.0</td>\n",
       "      <td>0.0</td>\n",
       "    </tr>\n",
       "    <tr>\n",
       "      <th>3</th>\n",
       "      <td>0.07422</td>\n",
       "      <td>0.503791</td>\n",
       "      <td>0.000170</td>\n",
       "      <td>0.111125</td>\n",
       "      <td>0.0</td>\n",
       "      <td>0.0</td>\n",
       "      <td>0.0</td>\n",
       "      <td>1.0</td>\n",
       "      <td>0.0</td>\n",
       "      <td>1.0</td>\n",
       "      <td>0.0</td>\n",
       "      <td>1.0</td>\n",
       "      <td>0.0</td>\n",
       "      <td>0.0</td>\n",
       "      <td>0.0</td>\n",
       "      <td>0.0</td>\n",
       "    </tr>\n",
       "    <tr>\n",
       "      <th>4</th>\n",
       "      <td>0.07422</td>\n",
       "      <td>0.044861</td>\n",
       "      <td>0.000283</td>\n",
       "      <td>0.176659</td>\n",
       "      <td>0.0</td>\n",
       "      <td>0.0</td>\n",
       "      <td>0.0</td>\n",
       "      <td>1.0</td>\n",
       "      <td>1.0</td>\n",
       "      <td>1.0</td>\n",
       "      <td>0.0</td>\n",
       "      <td>1.0</td>\n",
       "      <td>0.0</td>\n",
       "      <td>0.0</td>\n",
       "      <td>0.0</td>\n",
       "      <td>0.0</td>\n",
       "    </tr>\n",
       "  </tbody>\n",
       "</table>\n",
       "</div>"
      ],
      "text/plain": [
       "   Customer Lifetime Value    Income  Monthly Premium Auto  \\\n",
       "0                  0.07422  0.430601              0.001332   \n",
       "1                  0.07422  0.292627              0.000198   \n",
       "2                  0.07422  0.587755              0.000227   \n",
       "3                  0.07422  0.503791              0.000170   \n",
       "4                  0.07422  0.044861              0.000283   \n",
       "\n",
       "   Total Claim Amount  Arizona  California  Nevada  Oregon  Gender  \\\n",
       "0            0.195763      0.0         0.0     1.0     0.0     0.0   \n",
       "1            0.005935      0.0         0.0     0.0     0.0     1.0   \n",
       "2            0.055054      0.0         0.0     0.0     1.0     0.0   \n",
       "3            0.111125      0.0         0.0     0.0     1.0     0.0   \n",
       "4            0.176659      0.0         0.0     0.0     1.0     1.0   \n",
       "\n",
       "   Corporate Auto  Personal Auto  Four-Door Car  Luxury Car  Luxury SUV  SUV  \\\n",
       "0             0.0            1.0            0.0         0.0         0.0  0.0   \n",
       "1             0.0            1.0            1.0         0.0         0.0  0.0   \n",
       "2             0.0            1.0            0.0         0.0         0.0  0.0   \n",
       "3             1.0            0.0            1.0         0.0         0.0  0.0   \n",
       "4             1.0            0.0            1.0         0.0         0.0  0.0   \n",
       "\n",
       "   Sports Car  \n",
       "0         0.0  \n",
       "1         0.0  \n",
       "2         0.0  \n",
       "3         0.0  \n",
       "4         0.0  "
      ]
     },
     "execution_count": 161,
     "metadata": {},
     "output_type": "execute_result"
    }
   ],
   "source": [
    "# Normalizing and Standardizing data - only for numerical variables\n",
    "from sklearn.preprocessing import MinMaxScaler\n",
    "MinMaxtransformer = MinMaxScaler().fit(file)\n",
    "file = MinMaxtransformer.transform(file)\n",
    "print(file.shape)\n",
    "file = pd.DataFrame(file,columns=['Customer Lifetime Value', 'Income', 'Monthly Premium Auto',\n",
    "       'Total Claim Amount', 'Arizona', 'California', 'Nevada', 'Oregon',\n",
    "       'Gender', 'Corporate Auto', 'Personal Auto', 'Four-Door Car',\n",
    "       'Luxury Car', 'Luxury SUV', 'SUV', 'Sports Car'])\n",
    "file.head()"
   ]
  },
  {
   "cell_type": "code",
   "execution_count": 162,
   "metadata": {},
   "outputs": [
    {
     "name": "stdout",
     "output_type": "stream",
     "text": [
      "(6840, 16)\n"
     ]
    },
    {
     "data": {
      "text/html": [
       "<div>\n",
       "<style scoped>\n",
       "    .dataframe tbody tr th:only-of-type {\n",
       "        vertical-align: middle;\n",
       "    }\n",
       "\n",
       "    .dataframe tbody tr th {\n",
       "        vertical-align: top;\n",
       "    }\n",
       "\n",
       "    .dataframe thead th {\n",
       "        text-align: right;\n",
       "    }\n",
       "</style>\n",
       "<table border=\"1\" class=\"dataframe\">\n",
       "  <thead>\n",
       "    <tr style=\"text-align: right;\">\n",
       "      <th></th>\n",
       "      <th>Customer Lifetime Value</th>\n",
       "      <th>Income</th>\n",
       "      <th>Monthly Premium Auto</th>\n",
       "      <th>Total Claim Amount</th>\n",
       "      <th>Arizona</th>\n",
       "      <th>California</th>\n",
       "      <th>Nevada</th>\n",
       "      <th>Oregon</th>\n",
       "      <th>Gender</th>\n",
       "      <th>Corporate Auto</th>\n",
       "      <th>Personal Auto</th>\n",
       "      <th>Four-Door Car</th>\n",
       "      <th>Luxury Car</th>\n",
       "      <th>Luxury SUV</th>\n",
       "      <th>SUV</th>\n",
       "      <th>Sports Car</th>\n",
       "    </tr>\n",
       "  </thead>\n",
       "  <tbody>\n",
       "    <tr>\n",
       "      <th>0</th>\n",
       "      <td>-0.000048</td>\n",
       "      <td>-0.071787</td>\n",
       "      <td>-0.009582</td>\n",
       "      <td>0.763280</td>\n",
       "      <td>-0.478193</td>\n",
       "      <td>-0.722516</td>\n",
       "      <td>3.047247</td>\n",
       "      <td>-0.628541</td>\n",
       "      <td>-0.951469</td>\n",
       "      <td>-0.521391</td>\n",
       "      <td>0.586354</td>\n",
       "      <td>-1.022475</td>\n",
       "      <td>-0.133063</td>\n",
       "      <td>-0.142964</td>\n",
       "      <td>-0.482112</td>\n",
       "      <td>-0.233622</td>\n",
       "    </tr>\n",
       "    <tr>\n",
       "      <th>1</th>\n",
       "      <td>-0.000048</td>\n",
       "      <td>-0.582741</td>\n",
       "      <td>-0.070163</td>\n",
       "      <td>-1.421240</td>\n",
       "      <td>-0.478193</td>\n",
       "      <td>-0.722516</td>\n",
       "      <td>-0.328165</td>\n",
       "      <td>-0.628541</td>\n",
       "      <td>1.051007</td>\n",
       "      <td>-0.521391</td>\n",
       "      <td>0.586354</td>\n",
       "      <td>0.978019</td>\n",
       "      <td>-0.133063</td>\n",
       "      <td>-0.142964</td>\n",
       "      <td>-0.482112</td>\n",
       "      <td>-0.233622</td>\n",
       "    </tr>\n",
       "    <tr>\n",
       "      <th>2</th>\n",
       "      <td>-0.000048</td>\n",
       "      <td>0.510191</td>\n",
       "      <td>-0.068648</td>\n",
       "      <td>-0.855978</td>\n",
       "      <td>-0.478193</td>\n",
       "      <td>-0.722516</td>\n",
       "      <td>-0.328165</td>\n",
       "      <td>1.590985</td>\n",
       "      <td>-0.951469</td>\n",
       "      <td>-0.521391</td>\n",
       "      <td>0.586354</td>\n",
       "      <td>-1.022475</td>\n",
       "      <td>-0.133063</td>\n",
       "      <td>-0.142964</td>\n",
       "      <td>-0.482112</td>\n",
       "      <td>-0.233622</td>\n",
       "    </tr>\n",
       "    <tr>\n",
       "      <th>3</th>\n",
       "      <td>-0.000048</td>\n",
       "      <td>0.199254</td>\n",
       "      <td>-0.071677</td>\n",
       "      <td>-0.210725</td>\n",
       "      <td>-0.478193</td>\n",
       "      <td>-0.722516</td>\n",
       "      <td>-0.328165</td>\n",
       "      <td>1.590985</td>\n",
       "      <td>-0.951469</td>\n",
       "      <td>1.917947</td>\n",
       "      <td>-1.705453</td>\n",
       "      <td>0.978019</td>\n",
       "      <td>-0.133063</td>\n",
       "      <td>-0.142964</td>\n",
       "      <td>-0.482112</td>\n",
       "      <td>-0.233622</td>\n",
       "    </tr>\n",
       "    <tr>\n",
       "      <th>4</th>\n",
       "      <td>-0.000048</td>\n",
       "      <td>-1.500278</td>\n",
       "      <td>-0.065619</td>\n",
       "      <td>0.543435</td>\n",
       "      <td>-0.478193</td>\n",
       "      <td>-0.722516</td>\n",
       "      <td>-0.328165</td>\n",
       "      <td>1.590985</td>\n",
       "      <td>1.051007</td>\n",
       "      <td>1.917947</td>\n",
       "      <td>-1.705453</td>\n",
       "      <td>0.978019</td>\n",
       "      <td>-0.133063</td>\n",
       "      <td>-0.142964</td>\n",
       "      <td>-0.482112</td>\n",
       "      <td>-0.233622</td>\n",
       "    </tr>\n",
       "  </tbody>\n",
       "</table>\n",
       "</div>"
      ],
      "text/plain": [
       "   Customer Lifetime Value    Income  Monthly Premium Auto  \\\n",
       "0                -0.000048 -0.071787             -0.009582   \n",
       "1                -0.000048 -0.582741             -0.070163   \n",
       "2                -0.000048  0.510191             -0.068648   \n",
       "3                -0.000048  0.199254             -0.071677   \n",
       "4                -0.000048 -1.500278             -0.065619   \n",
       "\n",
       "   Total Claim Amount   Arizona  California    Nevada    Oregon    Gender  \\\n",
       "0            0.763280 -0.478193   -0.722516  3.047247 -0.628541 -0.951469   \n",
       "1           -1.421240 -0.478193   -0.722516 -0.328165 -0.628541  1.051007   \n",
       "2           -0.855978 -0.478193   -0.722516 -0.328165  1.590985 -0.951469   \n",
       "3           -0.210725 -0.478193   -0.722516 -0.328165  1.590985 -0.951469   \n",
       "4            0.543435 -0.478193   -0.722516 -0.328165  1.590985  1.051007   \n",
       "\n",
       "   Corporate Auto  Personal Auto  Four-Door Car  Luxury Car  Luxury SUV  \\\n",
       "0       -0.521391       0.586354      -1.022475   -0.133063   -0.142964   \n",
       "1       -0.521391       0.586354       0.978019   -0.133063   -0.142964   \n",
       "2       -0.521391       0.586354      -1.022475   -0.133063   -0.142964   \n",
       "3        1.917947      -1.705453       0.978019   -0.133063   -0.142964   \n",
       "4        1.917947      -1.705453       0.978019   -0.133063   -0.142964   \n",
       "\n",
       "        SUV  Sports Car  \n",
       "0 -0.482112   -0.233622  \n",
       "1 -0.482112   -0.233622  \n",
       "2 -0.482112   -0.233622  \n",
       "3 -0.482112   -0.233622  \n",
       "4 -0.482112   -0.233622  "
      ]
     },
     "execution_count": 162,
     "metadata": {},
     "output_type": "execute_result"
    }
   ],
   "source": [
    "from sklearn.preprocessing import StandardScaler\n",
    "Standardtransformer = StandardScaler().fit(file)\n",
    "file= Standardtransformer.transform(file)\n",
    "print(file.shape)\n",
    "file= pd.DataFrame(x_standardized,columns=['Customer Lifetime Value', 'Income', 'Monthly Premium Auto',\n",
    "       'Total Claim Amount', 'Arizona', 'California', 'Nevada', 'Oregon',\n",
    "       'Gender', 'Corporate Auto', 'Personal Auto', 'Four-Door Car',\n",
    "       'Luxury Car', 'Luxury SUV', 'SUV', 'Sports Car'])\n",
    "file.head()"
   ]
  },
  {
   "cell_type": "code",
   "execution_count": 172,
   "metadata": {},
   "outputs": [],
   "source": [
    "# Create a copy of file to test LR model again\n",
    "file2 = file.copy()\n"
   ]
  },
  {
   "cell_type": "code",
   "execution_count": 173,
   "metadata": {},
   "outputs": [
    {
     "data": {
      "text/html": [
       "<div>\n",
       "<style scoped>\n",
       "    .dataframe tbody tr th:only-of-type {\n",
       "        vertical-align: middle;\n",
       "    }\n",
       "\n",
       "    .dataframe tbody tr th {\n",
       "        vertical-align: top;\n",
       "    }\n",
       "\n",
       "    .dataframe thead th {\n",
       "        text-align: right;\n",
       "    }\n",
       "</style>\n",
       "<table border=\"1\" class=\"dataframe\">\n",
       "  <thead>\n",
       "    <tr style=\"text-align: right;\">\n",
       "      <th></th>\n",
       "      <th>Customer Lifetime Value</th>\n",
       "      <th>Income</th>\n",
       "      <th>Monthly Premium Auto</th>\n",
       "      <th>Arizona</th>\n",
       "      <th>California</th>\n",
       "      <th>Nevada</th>\n",
       "      <th>Oregon</th>\n",
       "      <th>Gender</th>\n",
       "      <th>Corporate Auto</th>\n",
       "      <th>Personal Auto</th>\n",
       "      <th>Four-Door Car</th>\n",
       "      <th>Luxury Car</th>\n",
       "      <th>Luxury SUV</th>\n",
       "      <th>SUV</th>\n",
       "      <th>Sports Car</th>\n",
       "    </tr>\n",
       "  </thead>\n",
       "  <tbody>\n",
       "    <tr>\n",
       "      <th>128</th>\n",
       "      <td>-0.000048</td>\n",
       "      <td>0.831215</td>\n",
       "      <td>-0.048960</td>\n",
       "      <td>-0.478193</td>\n",
       "      <td>-0.722516</td>\n",
       "      <td>-0.328165</td>\n",
       "      <td>1.590985</td>\n",
       "      <td>-0.951469</td>\n",
       "      <td>-0.521391</td>\n",
       "      <td>0.586354</td>\n",
       "      <td>0.978019</td>\n",
       "      <td>-0.133063</td>\n",
       "      <td>-0.142964</td>\n",
       "      <td>-0.482112</td>\n",
       "      <td>-0.233622</td>\n",
       "    </tr>\n",
       "    <tr>\n",
       "      <th>5570</th>\n",
       "      <td>0.862010</td>\n",
       "      <td>-1.608974</td>\n",
       "      <td>0.007077</td>\n",
       "      <td>-0.478193</td>\n",
       "      <td>-0.722516</td>\n",
       "      <td>3.047247</td>\n",
       "      <td>-0.628541</td>\n",
       "      <td>-0.951469</td>\n",
       "      <td>-0.521391</td>\n",
       "      <td>-1.705453</td>\n",
       "      <td>-1.022475</td>\n",
       "      <td>-0.133063</td>\n",
       "      <td>-0.142964</td>\n",
       "      <td>2.074205</td>\n",
       "      <td>-0.233622</td>\n",
       "    </tr>\n",
       "    <tr>\n",
       "      <th>662</th>\n",
       "      <td>-0.000048</td>\n",
       "      <td>1.587066</td>\n",
       "      <td>-0.024727</td>\n",
       "      <td>-0.478193</td>\n",
       "      <td>-0.722516</td>\n",
       "      <td>-0.328165</td>\n",
       "      <td>-0.628541</td>\n",
       "      <td>1.051007</td>\n",
       "      <td>1.917947</td>\n",
       "      <td>-1.705453</td>\n",
       "      <td>-1.022475</td>\n",
       "      <td>-0.133063</td>\n",
       "      <td>-0.142964</td>\n",
       "      <td>-0.482112</td>\n",
       "      <td>-0.233622</td>\n",
       "    </tr>\n",
       "    <tr>\n",
       "      <th>2047</th>\n",
       "      <td>-0.456194</td>\n",
       "      <td>0.758422</td>\n",
       "      <td>-0.073192</td>\n",
       "      <td>2.091204</td>\n",
       "      <td>-0.722516</td>\n",
       "      <td>-0.328165</td>\n",
       "      <td>-0.628541</td>\n",
       "      <td>-0.951469</td>\n",
       "      <td>-0.521391</td>\n",
       "      <td>0.586354</td>\n",
       "      <td>0.978019</td>\n",
       "      <td>-0.133063</td>\n",
       "      <td>-0.142964</td>\n",
       "      <td>-0.482112</td>\n",
       "      <td>-0.233622</td>\n",
       "    </tr>\n",
       "    <tr>\n",
       "      <th>2175</th>\n",
       "      <td>0.025878</td>\n",
       "      <td>1.619057</td>\n",
       "      <td>-0.014126</td>\n",
       "      <td>-0.478193</td>\n",
       "      <td>-0.722516</td>\n",
       "      <td>3.047247</td>\n",
       "      <td>-0.628541</td>\n",
       "      <td>1.051007</td>\n",
       "      <td>-0.521391</td>\n",
       "      <td>0.586354</td>\n",
       "      <td>-1.022475</td>\n",
       "      <td>-0.133063</td>\n",
       "      <td>-0.142964</td>\n",
       "      <td>2.074205</td>\n",
       "      <td>-0.233622</td>\n",
       "    </tr>\n",
       "  </tbody>\n",
       "</table>\n",
       "</div>"
      ],
      "text/plain": [
       "      Customer Lifetime Value    Income  Monthly Premium Auto   Arizona  \\\n",
       "128                 -0.000048  0.831215             -0.048960 -0.478193   \n",
       "5570                 0.862010 -1.608974              0.007077 -0.478193   \n",
       "662                 -0.000048  1.587066             -0.024727 -0.478193   \n",
       "2047                -0.456194  0.758422             -0.073192  2.091204   \n",
       "2175                 0.025878  1.619057             -0.014126 -0.478193   \n",
       "\n",
       "      California    Nevada    Oregon    Gender  Corporate Auto  Personal Auto  \\\n",
       "128    -0.722516 -0.328165  1.590985 -0.951469       -0.521391       0.586354   \n",
       "5570   -0.722516  3.047247 -0.628541 -0.951469       -0.521391      -1.705453   \n",
       "662    -0.722516 -0.328165 -0.628541  1.051007        1.917947      -1.705453   \n",
       "2047   -0.722516 -0.328165 -0.628541 -0.951469       -0.521391       0.586354   \n",
       "2175   -0.722516  3.047247 -0.628541  1.051007       -0.521391       0.586354   \n",
       "\n",
       "      Four-Door Car  Luxury Car  Luxury SUV       SUV  Sports Car  \n",
       "128        0.978019   -0.133063   -0.142964 -0.482112   -0.233622  \n",
       "5570      -1.022475   -0.133063   -0.142964  2.074205   -0.233622  \n",
       "662       -1.022475   -0.133063   -0.142964 -0.482112   -0.233622  \n",
       "2047       0.978019   -0.133063   -0.142964 -0.482112   -0.233622  \n",
       "2175      -1.022475   -0.133063   -0.142964  2.074205   -0.233622  "
      ]
     },
     "execution_count": 173,
     "metadata": {},
     "output_type": "execute_result"
    }
   ],
   "source": [
    "# Now run again the train test split and LR model\n",
    "Y = file['Total Claim Amount']\n",
    "X = file2.drop(['Total Claim Amount'], axis=1)\n",
    "\n",
    "X_train, X_test, y_train, y_test = train_test_split(X, y, test_size=0.2, random_state=100)\n",
    "\n",
    "X_train.head()"
   ]
  },
  {
   "cell_type": "code",
   "execution_count": 174,
   "metadata": {},
   "outputs": [],
   "source": [
    "lm = linear_model.LinearRegression()\n",
    "model = lm.fit(X_train,y_train)"
   ]
  },
  {
   "cell_type": "code",
   "execution_count": 175,
   "metadata": {},
   "outputs": [
    {
     "data": {
      "text/plain": [
       "array([251.00810019, 199.38789646, 322.58581812, ..., 587.79589337,\n",
       "       268.75442057, 345.84801618])"
      ]
     },
     "execution_count": 175,
     "metadata": {},
     "output_type": "execute_result"
    }
   ],
   "source": [
    "lm.predict(X_test)"
   ]
  },
  {
   "cell_type": "code",
   "execution_count": 176,
   "metadata": {},
   "outputs": [
    {
     "name": "stdout",
     "output_type": "stream",
     "text": [
      "r2: 0.3692141719370783\n",
      "mse: 41659.09294093397\n",
      "rmse: 204.10559262532217\n",
      "mae: 148.33976534729973\n"
     ]
    }
   ],
   "source": [
    "# Apply prediction metrics to see the accuracy of the model\n",
    "\n",
    "\n",
    "predictions = lm.predict(X_test)\n",
    "\n",
    "\n",
    "#R2.\n",
    "r2 = r2_score(y_test, predictions)\n",
    "#MSE.\n",
    "mse = mean_squared_error(y_test, predictions)\n",
    "#RMSE.\n",
    "rmse = math.sqrt(mse)\n",
    "#MAE.\n",
    "mae = mean_absolute_error(y_test, predictions)\n",
    "\n",
    "print('r2:',r2)\n",
    "print('mse:',mse)\n",
    "print('rmse:',rmse)\n",
    "print('mae:',mae)"
   ]
  },
  {
   "cell_type": "code",
   "execution_count": null,
   "metadata": {},
   "outputs": [],
   "source": [
    "# The values have not changed from the previous LR model test, therefore either the normalization had no effect or the model \n",
    "# learned the data. Investigation needed."
   ]
  },
  {
   "cell_type": "code",
   "execution_count": null,
   "metadata": {},
   "outputs": [],
   "source": []
  },
  {
   "cell_type": "code",
   "execution_count": null,
   "metadata": {},
   "outputs": [],
   "source": []
  }
 ],
 "metadata": {
  "kernelspec": {
   "display_name": "Python 3",
   "language": "python",
   "name": "python3"
  },
  "language_info": {
   "codemirror_mode": {
    "name": "ipython",
    "version": 3
   },
   "file_extension": ".py",
   "mimetype": "text/x-python",
   "name": "python",
   "nbconvert_exporter": "python",
   "pygments_lexer": "ipython3",
   "version": "3.8.5"
  }
 },
 "nbformat": 4,
 "nbformat_minor": 4
}
